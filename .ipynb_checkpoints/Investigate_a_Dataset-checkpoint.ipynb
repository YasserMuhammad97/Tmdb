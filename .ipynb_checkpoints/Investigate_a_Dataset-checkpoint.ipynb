{
 "cells": [
  {
   "cell_type": "markdown",
   "metadata": {},
   "source": [
    "<a id='intro'></a>\n",
    "## Introduction\n",
    "\n",
    "### Dataset Description \n",
    "\n",
    "\n",
    "This data set contains information about 10,000 movies collected from The Movie Database (TMDb), including user ratings and revenue , popularity\n",
    "id, imdb_id , budget, title,cast,homepage,director,tagline,keywords,overview,runtime,genres, production companies , release date,revenue adjusted for inflation and budget adjusted for inflation\n",
    "most significant columns would include budget revenue runtime popularity and user ratings\n",
    "\n",
    "\n",
    "\n",
    "### What qualities make a movie popular? what qualities make a movie profitable?\n",
    "### what are the top ten profitable movies? what are the top ten profitable years for movie making?\n",
    "### is the movie making industry thriving or dying ? \n",
    "### What is the average runtime for all movies ? what is the average budget for all movies ?  \n"
   ]
  },
  {
   "cell_type": "code",
   "execution_count": 4,
   "metadata": {},
   "outputs": [],
   "source": [
    "\n",
    "import numpy as np\n",
    "import pandas as pd\n",
    "import matplotlib.pyplot as plt\n",
    "import seaborn as sns\n",
    "%matplotlib inline\n",
    "df = pd.read_csv('tmdb-movies.csv')\n"
   ]
  },
  {
   "cell_type": "markdown",
   "metadata": {},
   "source": [
    "<a id='wrangling'></a>\n",
    "## Data Wrangling\n",
    "\n",
    "\n",
    "\n",
    "### General Properties\n"
   ]
  },
  {
   "cell_type": "markdown",
   "metadata": {},
   "source": [
    "let's take a look at how the data looks"
   ]
  },
  {
   "cell_type": "code",
   "execution_count": 5,
   "metadata": {},
   "outputs": [
    {
     "data": {
      "text/html": [
       "<div>\n",
       "<style scoped>\n",
       "    .dataframe tbody tr th:only-of-type {\n",
       "        vertical-align: middle;\n",
       "    }\n",
       "\n",
       "    .dataframe tbody tr th {\n",
       "        vertical-align: top;\n",
       "    }\n",
       "\n",
       "    .dataframe thead th {\n",
       "        text-align: right;\n",
       "    }\n",
       "</style>\n",
       "<table border=\"1\" class=\"dataframe\">\n",
       "  <thead>\n",
       "    <tr style=\"text-align: right;\">\n",
       "      <th></th>\n",
       "      <th>id</th>\n",
       "      <th>imdb_id</th>\n",
       "      <th>popularity</th>\n",
       "      <th>budget</th>\n",
       "      <th>revenue</th>\n",
       "      <th>original_title</th>\n",
       "      <th>cast</th>\n",
       "      <th>homepage</th>\n",
       "      <th>director</th>\n",
       "      <th>tagline</th>\n",
       "      <th>...</th>\n",
       "      <th>overview</th>\n",
       "      <th>runtime</th>\n",
       "      <th>genres</th>\n",
       "      <th>production_companies</th>\n",
       "      <th>release_date</th>\n",
       "      <th>vote_count</th>\n",
       "      <th>vote_average</th>\n",
       "      <th>release_year</th>\n",
       "      <th>budget_adj</th>\n",
       "      <th>revenue_adj</th>\n",
       "    </tr>\n",
       "  </thead>\n",
       "  <tbody>\n",
       "    <tr>\n",
       "      <th>0</th>\n",
       "      <td>135397</td>\n",
       "      <td>tt0369610</td>\n",
       "      <td>32.985763</td>\n",
       "      <td>150000000</td>\n",
       "      <td>1513528810</td>\n",
       "      <td>Jurassic World</td>\n",
       "      <td>Chris Pratt|Bryce Dallas Howard|Irrfan Khan|Vi...</td>\n",
       "      <td>http://www.jurassicworld.com/</td>\n",
       "      <td>Colin Trevorrow</td>\n",
       "      <td>The park is open.</td>\n",
       "      <td>...</td>\n",
       "      <td>Twenty-two years after the events of Jurassic ...</td>\n",
       "      <td>124</td>\n",
       "      <td>Action|Adventure|Science Fiction|Thriller</td>\n",
       "      <td>Universal Studios|Amblin Entertainment|Legenda...</td>\n",
       "      <td>6/9/15</td>\n",
       "      <td>5562</td>\n",
       "      <td>6.5</td>\n",
       "      <td>2015</td>\n",
       "      <td>1.379999e+08</td>\n",
       "      <td>1.392446e+09</td>\n",
       "    </tr>\n",
       "    <tr>\n",
       "      <th>1</th>\n",
       "      <td>76341</td>\n",
       "      <td>tt1392190</td>\n",
       "      <td>28.419936</td>\n",
       "      <td>150000000</td>\n",
       "      <td>378436354</td>\n",
       "      <td>Mad Max: Fury Road</td>\n",
       "      <td>Tom Hardy|Charlize Theron|Hugh Keays-Byrne|Nic...</td>\n",
       "      <td>http://www.madmaxmovie.com/</td>\n",
       "      <td>George Miller</td>\n",
       "      <td>What a Lovely Day.</td>\n",
       "      <td>...</td>\n",
       "      <td>An apocalyptic story set in the furthest reach...</td>\n",
       "      <td>120</td>\n",
       "      <td>Action|Adventure|Science Fiction|Thriller</td>\n",
       "      <td>Village Roadshow Pictures|Kennedy Miller Produ...</td>\n",
       "      <td>5/13/15</td>\n",
       "      <td>6185</td>\n",
       "      <td>7.1</td>\n",
       "      <td>2015</td>\n",
       "      <td>1.379999e+08</td>\n",
       "      <td>3.481613e+08</td>\n",
       "    </tr>\n",
       "    <tr>\n",
       "      <th>2</th>\n",
       "      <td>262500</td>\n",
       "      <td>tt2908446</td>\n",
       "      <td>13.112507</td>\n",
       "      <td>110000000</td>\n",
       "      <td>295238201</td>\n",
       "      <td>Insurgent</td>\n",
       "      <td>Shailene Woodley|Theo James|Kate Winslet|Ansel...</td>\n",
       "      <td>http://www.thedivergentseries.movie/#insurgent</td>\n",
       "      <td>Robert Schwentke</td>\n",
       "      <td>One Choice Can Destroy You</td>\n",
       "      <td>...</td>\n",
       "      <td>Beatrice Prior must confront her inner demons ...</td>\n",
       "      <td>119</td>\n",
       "      <td>Adventure|Science Fiction|Thriller</td>\n",
       "      <td>Summit Entertainment|Mandeville Films|Red Wago...</td>\n",
       "      <td>3/18/15</td>\n",
       "      <td>2480</td>\n",
       "      <td>6.3</td>\n",
       "      <td>2015</td>\n",
       "      <td>1.012000e+08</td>\n",
       "      <td>2.716190e+08</td>\n",
       "    </tr>\n",
       "    <tr>\n",
       "      <th>3</th>\n",
       "      <td>140607</td>\n",
       "      <td>tt2488496</td>\n",
       "      <td>11.173104</td>\n",
       "      <td>200000000</td>\n",
       "      <td>2068178225</td>\n",
       "      <td>Star Wars: The Force Awakens</td>\n",
       "      <td>Harrison Ford|Mark Hamill|Carrie Fisher|Adam D...</td>\n",
       "      <td>http://www.starwars.com/films/star-wars-episod...</td>\n",
       "      <td>J.J. Abrams</td>\n",
       "      <td>Every generation has a story.</td>\n",
       "      <td>...</td>\n",
       "      <td>Thirty years after defeating the Galactic Empi...</td>\n",
       "      <td>136</td>\n",
       "      <td>Action|Adventure|Science Fiction|Fantasy</td>\n",
       "      <td>Lucasfilm|Truenorth Productions|Bad Robot</td>\n",
       "      <td>12/15/15</td>\n",
       "      <td>5292</td>\n",
       "      <td>7.5</td>\n",
       "      <td>2015</td>\n",
       "      <td>1.839999e+08</td>\n",
       "      <td>1.902723e+09</td>\n",
       "    </tr>\n",
       "    <tr>\n",
       "      <th>4</th>\n",
       "      <td>168259</td>\n",
       "      <td>tt2820852</td>\n",
       "      <td>9.335014</td>\n",
       "      <td>190000000</td>\n",
       "      <td>1506249360</td>\n",
       "      <td>Furious 7</td>\n",
       "      <td>Vin Diesel|Paul Walker|Jason Statham|Michelle ...</td>\n",
       "      <td>http://www.furious7.com/</td>\n",
       "      <td>James Wan</td>\n",
       "      <td>Vengeance Hits Home</td>\n",
       "      <td>...</td>\n",
       "      <td>Deckard Shaw seeks revenge against Dominic Tor...</td>\n",
       "      <td>137</td>\n",
       "      <td>Action|Crime|Thriller</td>\n",
       "      <td>Universal Pictures|Original Film|Media Rights ...</td>\n",
       "      <td>4/1/15</td>\n",
       "      <td>2947</td>\n",
       "      <td>7.3</td>\n",
       "      <td>2015</td>\n",
       "      <td>1.747999e+08</td>\n",
       "      <td>1.385749e+09</td>\n",
       "    </tr>\n",
       "  </tbody>\n",
       "</table>\n",
       "<p>5 rows × 21 columns</p>\n",
       "</div>"
      ],
      "text/plain": [
       "       id    imdb_id  popularity     budget     revenue  \\\n",
       "0  135397  tt0369610   32.985763  150000000  1513528810   \n",
       "1   76341  tt1392190   28.419936  150000000   378436354   \n",
       "2  262500  tt2908446   13.112507  110000000   295238201   \n",
       "3  140607  tt2488496   11.173104  200000000  2068178225   \n",
       "4  168259  tt2820852    9.335014  190000000  1506249360   \n",
       "\n",
       "                 original_title  \\\n",
       "0                Jurassic World   \n",
       "1            Mad Max: Fury Road   \n",
       "2                     Insurgent   \n",
       "3  Star Wars: The Force Awakens   \n",
       "4                     Furious 7   \n",
       "\n",
       "                                                cast  \\\n",
       "0  Chris Pratt|Bryce Dallas Howard|Irrfan Khan|Vi...   \n",
       "1  Tom Hardy|Charlize Theron|Hugh Keays-Byrne|Nic...   \n",
       "2  Shailene Woodley|Theo James|Kate Winslet|Ansel...   \n",
       "3  Harrison Ford|Mark Hamill|Carrie Fisher|Adam D...   \n",
       "4  Vin Diesel|Paul Walker|Jason Statham|Michelle ...   \n",
       "\n",
       "                                            homepage          director  \\\n",
       "0                      http://www.jurassicworld.com/   Colin Trevorrow   \n",
       "1                        http://www.madmaxmovie.com/     George Miller   \n",
       "2     http://www.thedivergentseries.movie/#insurgent  Robert Schwentke   \n",
       "3  http://www.starwars.com/films/star-wars-episod...       J.J. Abrams   \n",
       "4                           http://www.furious7.com/         James Wan   \n",
       "\n",
       "                         tagline  ...  \\\n",
       "0              The park is open.  ...   \n",
       "1             What a Lovely Day.  ...   \n",
       "2     One Choice Can Destroy You  ...   \n",
       "3  Every generation has a story.  ...   \n",
       "4            Vengeance Hits Home  ...   \n",
       "\n",
       "                                            overview runtime  \\\n",
       "0  Twenty-two years after the events of Jurassic ...     124   \n",
       "1  An apocalyptic story set in the furthest reach...     120   \n",
       "2  Beatrice Prior must confront her inner demons ...     119   \n",
       "3  Thirty years after defeating the Galactic Empi...     136   \n",
       "4  Deckard Shaw seeks revenge against Dominic Tor...     137   \n",
       "\n",
       "                                      genres  \\\n",
       "0  Action|Adventure|Science Fiction|Thriller   \n",
       "1  Action|Adventure|Science Fiction|Thriller   \n",
       "2         Adventure|Science Fiction|Thriller   \n",
       "3   Action|Adventure|Science Fiction|Fantasy   \n",
       "4                      Action|Crime|Thriller   \n",
       "\n",
       "                                production_companies release_date vote_count  \\\n",
       "0  Universal Studios|Amblin Entertainment|Legenda...       6/9/15       5562   \n",
       "1  Village Roadshow Pictures|Kennedy Miller Produ...      5/13/15       6185   \n",
       "2  Summit Entertainment|Mandeville Films|Red Wago...      3/18/15       2480   \n",
       "3          Lucasfilm|Truenorth Productions|Bad Robot     12/15/15       5292   \n",
       "4  Universal Pictures|Original Film|Media Rights ...       4/1/15       2947   \n",
       "\n",
       "   vote_average  release_year    budget_adj   revenue_adj  \n",
       "0           6.5          2015  1.379999e+08  1.392446e+09  \n",
       "1           7.1          2015  1.379999e+08  3.481613e+08  \n",
       "2           6.3          2015  1.012000e+08  2.716190e+08  \n",
       "3           7.5          2015  1.839999e+08  1.902723e+09  \n",
       "4           7.3          2015  1.747999e+08  1.385749e+09  \n",
       "\n",
       "[5 rows x 21 columns]"
      ]
     },
     "execution_count": 5,
     "metadata": {},
     "output_type": "execute_result"
    }
   ],
   "source": [
    "df.head()"
   ]
  },
  {
   "cell_type": "code",
   "execution_count": null,
   "metadata": {},
   "outputs": [],
   "source": []
  },
  {
   "cell_type": "markdown",
   "metadata": {},
   "source": [
    "some columns like genres and cast have multiple values seperated by |\n",
    "may need to divide them if we wish to analyze indiviual actor or genre"
   ]
  },
  {
   "cell_type": "code",
   "execution_count": 6,
   "metadata": {},
   "outputs": [
    {
     "data": {
      "text/html": [
       "<div>\n",
       "<style scoped>\n",
       "    .dataframe tbody tr th:only-of-type {\n",
       "        vertical-align: middle;\n",
       "    }\n",
       "\n",
       "    .dataframe tbody tr th {\n",
       "        vertical-align: top;\n",
       "    }\n",
       "\n",
       "    .dataframe thead th {\n",
       "        text-align: right;\n",
       "    }\n",
       "</style>\n",
       "<table border=\"1\" class=\"dataframe\">\n",
       "  <thead>\n",
       "    <tr style=\"text-align: right;\">\n",
       "      <th></th>\n",
       "      <th>id</th>\n",
       "      <th>popularity</th>\n",
       "      <th>budget</th>\n",
       "      <th>revenue</th>\n",
       "      <th>runtime</th>\n",
       "      <th>vote_count</th>\n",
       "      <th>vote_average</th>\n",
       "      <th>release_year</th>\n",
       "      <th>budget_adj</th>\n",
       "      <th>revenue_adj</th>\n",
       "    </tr>\n",
       "  </thead>\n",
       "  <tbody>\n",
       "    <tr>\n",
       "      <th>count</th>\n",
       "      <td>10866.000000</td>\n",
       "      <td>10866.000000</td>\n",
       "      <td>1.086600e+04</td>\n",
       "      <td>1.086600e+04</td>\n",
       "      <td>10866.000000</td>\n",
       "      <td>10866.000000</td>\n",
       "      <td>10866.000000</td>\n",
       "      <td>10866.000000</td>\n",
       "      <td>1.086600e+04</td>\n",
       "      <td>1.086600e+04</td>\n",
       "    </tr>\n",
       "    <tr>\n",
       "      <th>mean</th>\n",
       "      <td>66064.177434</td>\n",
       "      <td>0.646441</td>\n",
       "      <td>1.462570e+07</td>\n",
       "      <td>3.982332e+07</td>\n",
       "      <td>102.070863</td>\n",
       "      <td>217.389748</td>\n",
       "      <td>5.974922</td>\n",
       "      <td>2001.322658</td>\n",
       "      <td>1.755104e+07</td>\n",
       "      <td>5.136436e+07</td>\n",
       "    </tr>\n",
       "    <tr>\n",
       "      <th>std</th>\n",
       "      <td>92130.136561</td>\n",
       "      <td>1.000185</td>\n",
       "      <td>3.091321e+07</td>\n",
       "      <td>1.170035e+08</td>\n",
       "      <td>31.381405</td>\n",
       "      <td>575.619058</td>\n",
       "      <td>0.935142</td>\n",
       "      <td>12.812941</td>\n",
       "      <td>3.430616e+07</td>\n",
       "      <td>1.446325e+08</td>\n",
       "    </tr>\n",
       "    <tr>\n",
       "      <th>min</th>\n",
       "      <td>5.000000</td>\n",
       "      <td>0.000065</td>\n",
       "      <td>0.000000e+00</td>\n",
       "      <td>0.000000e+00</td>\n",
       "      <td>0.000000</td>\n",
       "      <td>10.000000</td>\n",
       "      <td>1.500000</td>\n",
       "      <td>1960.000000</td>\n",
       "      <td>0.000000e+00</td>\n",
       "      <td>0.000000e+00</td>\n",
       "    </tr>\n",
       "    <tr>\n",
       "      <th>25%</th>\n",
       "      <td>10596.250000</td>\n",
       "      <td>0.207583</td>\n",
       "      <td>0.000000e+00</td>\n",
       "      <td>0.000000e+00</td>\n",
       "      <td>90.000000</td>\n",
       "      <td>17.000000</td>\n",
       "      <td>5.400000</td>\n",
       "      <td>1995.000000</td>\n",
       "      <td>0.000000e+00</td>\n",
       "      <td>0.000000e+00</td>\n",
       "    </tr>\n",
       "    <tr>\n",
       "      <th>50%</th>\n",
       "      <td>20669.000000</td>\n",
       "      <td>0.383856</td>\n",
       "      <td>0.000000e+00</td>\n",
       "      <td>0.000000e+00</td>\n",
       "      <td>99.000000</td>\n",
       "      <td>38.000000</td>\n",
       "      <td>6.000000</td>\n",
       "      <td>2006.000000</td>\n",
       "      <td>0.000000e+00</td>\n",
       "      <td>0.000000e+00</td>\n",
       "    </tr>\n",
       "    <tr>\n",
       "      <th>75%</th>\n",
       "      <td>75610.000000</td>\n",
       "      <td>0.713817</td>\n",
       "      <td>1.500000e+07</td>\n",
       "      <td>2.400000e+07</td>\n",
       "      <td>111.000000</td>\n",
       "      <td>145.750000</td>\n",
       "      <td>6.600000</td>\n",
       "      <td>2011.000000</td>\n",
       "      <td>2.085325e+07</td>\n",
       "      <td>3.369710e+07</td>\n",
       "    </tr>\n",
       "    <tr>\n",
       "      <th>max</th>\n",
       "      <td>417859.000000</td>\n",
       "      <td>32.985763</td>\n",
       "      <td>4.250000e+08</td>\n",
       "      <td>2.781506e+09</td>\n",
       "      <td>900.000000</td>\n",
       "      <td>9767.000000</td>\n",
       "      <td>9.200000</td>\n",
       "      <td>2015.000000</td>\n",
       "      <td>4.250000e+08</td>\n",
       "      <td>2.827124e+09</td>\n",
       "    </tr>\n",
       "  </tbody>\n",
       "</table>\n",
       "</div>"
      ],
      "text/plain": [
       "                  id    popularity        budget       revenue       runtime  \\\n",
       "count   10866.000000  10866.000000  1.086600e+04  1.086600e+04  10866.000000   \n",
       "mean    66064.177434      0.646441  1.462570e+07  3.982332e+07    102.070863   \n",
       "std     92130.136561      1.000185  3.091321e+07  1.170035e+08     31.381405   \n",
       "min         5.000000      0.000065  0.000000e+00  0.000000e+00      0.000000   \n",
       "25%     10596.250000      0.207583  0.000000e+00  0.000000e+00     90.000000   \n",
       "50%     20669.000000      0.383856  0.000000e+00  0.000000e+00     99.000000   \n",
       "75%     75610.000000      0.713817  1.500000e+07  2.400000e+07    111.000000   \n",
       "max    417859.000000     32.985763  4.250000e+08  2.781506e+09    900.000000   \n",
       "\n",
       "         vote_count  vote_average  release_year    budget_adj   revenue_adj  \n",
       "count  10866.000000  10866.000000  10866.000000  1.086600e+04  1.086600e+04  \n",
       "mean     217.389748      5.974922   2001.322658  1.755104e+07  5.136436e+07  \n",
       "std      575.619058      0.935142     12.812941  3.430616e+07  1.446325e+08  \n",
       "min       10.000000      1.500000   1960.000000  0.000000e+00  0.000000e+00  \n",
       "25%       17.000000      5.400000   1995.000000  0.000000e+00  0.000000e+00  \n",
       "50%       38.000000      6.000000   2006.000000  0.000000e+00  0.000000e+00  \n",
       "75%      145.750000      6.600000   2011.000000  2.085325e+07  3.369710e+07  \n",
       "max     9767.000000      9.200000   2015.000000  4.250000e+08  2.827124e+09  "
      ]
     },
     "execution_count": 6,
     "metadata": {},
     "output_type": "execute_result"
    }
   ],
   "source": [
    "df.describe()\n"
   ]
  },
  {
   "cell_type": "code",
   "execution_count": 7,
   "metadata": {},
   "outputs": [
    {
     "data": {
      "text/plain": [
       "(10866, 21)"
      ]
     },
     "execution_count": 7,
     "metadata": {},
     "output_type": "execute_result"
    }
   ],
   "source": [
    "df.shape"
   ]
  },
  {
   "cell_type": "code",
   "execution_count": 8,
   "metadata": {},
   "outputs": [
    {
     "name": "stdout",
     "output_type": "stream",
     "text": [
      "<class 'pandas.core.frame.DataFrame'>\n",
      "RangeIndex: 10866 entries, 0 to 10865\n",
      "Data columns (total 21 columns):\n",
      " #   Column                Non-Null Count  Dtype  \n",
      "---  ------                --------------  -----  \n",
      " 0   id                    10866 non-null  int64  \n",
      " 1   imdb_id               10856 non-null  object \n",
      " 2   popularity            10866 non-null  float64\n",
      " 3   budget                10866 non-null  int64  \n",
      " 4   revenue               10866 non-null  int64  \n",
      " 5   original_title        10866 non-null  object \n",
      " 6   cast                  10790 non-null  object \n",
      " 7   homepage              2936 non-null   object \n",
      " 8   director              10822 non-null  object \n",
      " 9   tagline               8042 non-null   object \n",
      " 10  keywords              9373 non-null   object \n",
      " 11  overview              10862 non-null  object \n",
      " 12  runtime               10866 non-null  int64  \n",
      " 13  genres                10843 non-null  object \n",
      " 14  production_companies  9836 non-null   object \n",
      " 15  release_date          10866 non-null  object \n",
      " 16  vote_count            10866 non-null  int64  \n",
      " 17  vote_average          10866 non-null  float64\n",
      " 18  release_year          10866 non-null  int64  \n",
      " 19  budget_adj            10866 non-null  float64\n",
      " 20  revenue_adj           10866 non-null  float64\n",
      "dtypes: float64(4), int64(6), object(11)\n",
      "memory usage: 1.7+ MB\n"
     ]
    }
   ],
   "source": [
    "\n",
    "df.info()"
   ]
  },
  {
   "cell_type": "markdown",
   "metadata": {},
   "source": [
    "there seems to be some columns that we will not need, budget adj and revenue adj is not needed in the presence of budget  and revenue .\n",
    "\n",
    "homepage, tagline, production companies,overview , id , imdb_id ,vote_count and keywords will not be relevant in our analysis\n",
    "\n",
    "looking at the statistical analysis of the data we find that Q1 Q2 Q3 of budget and revenue are zeroes and upon investigation\n",
    "some columns have missing values although not in null form but rather as zeros\n"
   ]
  },
  {
   "cell_type": "markdown",
   "metadata": {},
   "source": [
    "and now to check exactly how many zero values are there"
   ]
  },
  {
   "cell_type": "code",
   "execution_count": 9,
   "metadata": {},
   "outputs": [
    {
     "data": {
      "text/plain": [
       "0            6016\n",
       "12000000       10\n",
       "10000000        8\n",
       "11000000        7\n",
       "6000000         6\n",
       "             ... \n",
       "93354918        1\n",
       "76578641        1\n",
       "171269535       1\n",
       "215000000       1\n",
       "33736689        1\n",
       "Name: revenue, Length: 4702, dtype: int64"
      ]
     },
     "execution_count": 9,
     "metadata": {},
     "output_type": "execute_result"
    }
   ],
   "source": [
    "df['revenue'].value_counts()\n"
   ]
  },
  {
   "cell_type": "code",
   "execution_count": 10,
   "metadata": {},
   "outputs": [
    {
     "data": {
      "text/plain": [
       "0           5696\n",
       "20000000     190\n",
       "15000000     183\n",
       "25000000     178\n",
       "10000000     176\n",
       "            ... \n",
       "40000          1\n",
       "28             1\n",
       "68             1\n",
       "3500159        1\n",
       "19000          1\n",
       "Name: budget, Length: 557, dtype: int64"
      ]
     },
     "execution_count": 10,
     "metadata": {},
     "output_type": "execute_result"
    }
   ],
   "source": [
    "df['budget'].value_counts()"
   ]
  },
  {
   "cell_type": "markdown",
   "metadata": {},
   "source": [
    "there seems to be alot of entries with no budget, filling them with the mean will likely hurt our analysis so i think it's best to drop them all "
   ]
  },
  {
   "cell_type": "markdown",
   "metadata": {},
   "source": [
    "let's now check if the data has any duplicate rows"
   ]
  },
  {
   "cell_type": "code",
   "execution_count": 11,
   "metadata": {},
   "outputs": [
    {
     "name": "stdout",
     "output_type": "stream",
     "text": [
      "1\n"
     ]
    }
   ],
   "source": [
    "print(df.duplicated().sum())\n"
   ]
  },
  {
   "cell_type": "markdown",
   "metadata": {},
   "source": [
    "there also seems to be one duplicated row"
   ]
  },
  {
   "cell_type": "markdown",
   "metadata": {},
   "source": [
    "\n",
    "### Data Cleaning\n",
    "\n",
    " "
   ]
  },
  {
   "cell_type": "markdown",
   "metadata": {},
   "source": [
    "### we will be removing the irrelevant columns of the data\n"
   ]
  },
  {
   "cell_type": "code",
   "execution_count": 12,
   "metadata": {},
   "outputs": [
    {
     "data": {
      "text/html": [
       "<div>\n",
       "<style scoped>\n",
       "    .dataframe tbody tr th:only-of-type {\n",
       "        vertical-align: middle;\n",
       "    }\n",
       "\n",
       "    .dataframe tbody tr th {\n",
       "        vertical-align: top;\n",
       "    }\n",
       "\n",
       "    .dataframe thead th {\n",
       "        text-align: right;\n",
       "    }\n",
       "</style>\n",
       "<table border=\"1\" class=\"dataframe\">\n",
       "  <thead>\n",
       "    <tr style=\"text-align: right;\">\n",
       "      <th></th>\n",
       "      <th>popularity</th>\n",
       "      <th>budget</th>\n",
       "      <th>revenue</th>\n",
       "      <th>original_title</th>\n",
       "      <th>cast</th>\n",
       "      <th>director</th>\n",
       "      <th>runtime</th>\n",
       "      <th>genres</th>\n",
       "      <th>release_date</th>\n",
       "      <th>vote_average</th>\n",
       "      <th>release_year</th>\n",
       "    </tr>\n",
       "  </thead>\n",
       "  <tbody>\n",
       "    <tr>\n",
       "      <th>0</th>\n",
       "      <td>32.985763</td>\n",
       "      <td>150000000</td>\n",
       "      <td>1513528810</td>\n",
       "      <td>Jurassic World</td>\n",
       "      <td>Chris Pratt|Bryce Dallas Howard|Irrfan Khan|Vi...</td>\n",
       "      <td>Colin Trevorrow</td>\n",
       "      <td>124</td>\n",
       "      <td>Action|Adventure|Science Fiction|Thriller</td>\n",
       "      <td>6/9/15</td>\n",
       "      <td>6.5</td>\n",
       "      <td>2015</td>\n",
       "    </tr>\n",
       "    <tr>\n",
       "      <th>1</th>\n",
       "      <td>28.419936</td>\n",
       "      <td>150000000</td>\n",
       "      <td>378436354</td>\n",
       "      <td>Mad Max: Fury Road</td>\n",
       "      <td>Tom Hardy|Charlize Theron|Hugh Keays-Byrne|Nic...</td>\n",
       "      <td>George Miller</td>\n",
       "      <td>120</td>\n",
       "      <td>Action|Adventure|Science Fiction|Thriller</td>\n",
       "      <td>5/13/15</td>\n",
       "      <td>7.1</td>\n",
       "      <td>2015</td>\n",
       "    </tr>\n",
       "    <tr>\n",
       "      <th>2</th>\n",
       "      <td>13.112507</td>\n",
       "      <td>110000000</td>\n",
       "      <td>295238201</td>\n",
       "      <td>Insurgent</td>\n",
       "      <td>Shailene Woodley|Theo James|Kate Winslet|Ansel...</td>\n",
       "      <td>Robert Schwentke</td>\n",
       "      <td>119</td>\n",
       "      <td>Adventure|Science Fiction|Thriller</td>\n",
       "      <td>3/18/15</td>\n",
       "      <td>6.3</td>\n",
       "      <td>2015</td>\n",
       "    </tr>\n",
       "    <tr>\n",
       "      <th>3</th>\n",
       "      <td>11.173104</td>\n",
       "      <td>200000000</td>\n",
       "      <td>2068178225</td>\n",
       "      <td>Star Wars: The Force Awakens</td>\n",
       "      <td>Harrison Ford|Mark Hamill|Carrie Fisher|Adam D...</td>\n",
       "      <td>J.J. Abrams</td>\n",
       "      <td>136</td>\n",
       "      <td>Action|Adventure|Science Fiction|Fantasy</td>\n",
       "      <td>12/15/15</td>\n",
       "      <td>7.5</td>\n",
       "      <td>2015</td>\n",
       "    </tr>\n",
       "    <tr>\n",
       "      <th>4</th>\n",
       "      <td>9.335014</td>\n",
       "      <td>190000000</td>\n",
       "      <td>1506249360</td>\n",
       "      <td>Furious 7</td>\n",
       "      <td>Vin Diesel|Paul Walker|Jason Statham|Michelle ...</td>\n",
       "      <td>James Wan</td>\n",
       "      <td>137</td>\n",
       "      <td>Action|Crime|Thriller</td>\n",
       "      <td>4/1/15</td>\n",
       "      <td>7.3</td>\n",
       "      <td>2015</td>\n",
       "    </tr>\n",
       "  </tbody>\n",
       "</table>\n",
       "</div>"
      ],
      "text/plain": [
       "   popularity     budget     revenue                original_title  \\\n",
       "0   32.985763  150000000  1513528810                Jurassic World   \n",
       "1   28.419936  150000000   378436354            Mad Max: Fury Road   \n",
       "2   13.112507  110000000   295238201                     Insurgent   \n",
       "3   11.173104  200000000  2068178225  Star Wars: The Force Awakens   \n",
       "4    9.335014  190000000  1506249360                     Furious 7   \n",
       "\n",
       "                                                cast          director  \\\n",
       "0  Chris Pratt|Bryce Dallas Howard|Irrfan Khan|Vi...   Colin Trevorrow   \n",
       "1  Tom Hardy|Charlize Theron|Hugh Keays-Byrne|Nic...     George Miller   \n",
       "2  Shailene Woodley|Theo James|Kate Winslet|Ansel...  Robert Schwentke   \n",
       "3  Harrison Ford|Mark Hamill|Carrie Fisher|Adam D...       J.J. Abrams   \n",
       "4  Vin Diesel|Paul Walker|Jason Statham|Michelle ...         James Wan   \n",
       "\n",
       "   runtime                                     genres release_date  \\\n",
       "0      124  Action|Adventure|Science Fiction|Thriller       6/9/15   \n",
       "1      120  Action|Adventure|Science Fiction|Thriller      5/13/15   \n",
       "2      119         Adventure|Science Fiction|Thriller      3/18/15   \n",
       "3      136   Action|Adventure|Science Fiction|Fantasy     12/15/15   \n",
       "4      137                      Action|Crime|Thriller       4/1/15   \n",
       "\n",
       "   vote_average  release_year  \n",
       "0           6.5          2015  \n",
       "1           7.1          2015  \n",
       "2           6.3          2015  \n",
       "3           7.5          2015  \n",
       "4           7.3          2015  "
      ]
     },
     "execution_count": 12,
     "metadata": {},
     "output_type": "execute_result"
    }
   ],
   "source": [
    "\n",
    "df.drop(['id','imdb_id','homepage','tagline','keywords','overview','production_companies','vote_count','budget_adj','revenue_adj'], axis = 1, inplace = True)\n",
    "df.head()"
   ]
  },
  {
   "cell_type": "markdown",
   "metadata": {},
   "source": [
    "to check how many columns we have now"
   ]
  },
  {
   "cell_type": "code",
   "execution_count": 13,
   "metadata": {},
   "outputs": [
    {
     "data": {
      "text/plain": [
       "(10866, 11)"
      ]
     },
     "execution_count": 13,
     "metadata": {},
     "output_type": "execute_result"
    }
   ],
   "source": [
    "df.shape"
   ]
  },
  {
   "cell_type": "markdown",
   "metadata": {},
   "source": [
    "now to drop all the rows that have either zero budget or revenue in its cell"
   ]
  },
  {
   "cell_type": "code",
   "execution_count": 14,
   "metadata": {},
   "outputs": [],
   "source": [
    "df = df[df.revenue != 0]"
   ]
  },
  {
   "cell_type": "code",
   "execution_count": 15,
   "metadata": {},
   "outputs": [],
   "source": [
    "df = df[df.budget != 0]"
   ]
  },
  {
   "cell_type": "markdown",
   "metadata": {},
   "source": [
    "and now check the rows we have after the data cleaning"
   ]
  },
  {
   "cell_type": "code",
   "execution_count": 16,
   "metadata": {},
   "outputs": [
    {
     "data": {
      "text/plain": [
       "(3855, 11)"
      ]
     },
     "execution_count": 16,
     "metadata": {},
     "output_type": "execute_result"
    }
   ],
   "source": [
    "df.shape"
   ]
  },
  {
   "cell_type": "code",
   "execution_count": 17,
   "metadata": {},
   "outputs": [
    {
     "data": {
      "text/html": [
       "<div>\n",
       "<style scoped>\n",
       "    .dataframe tbody tr th:only-of-type {\n",
       "        vertical-align: middle;\n",
       "    }\n",
       "\n",
       "    .dataframe tbody tr th {\n",
       "        vertical-align: top;\n",
       "    }\n",
       "\n",
       "    .dataframe thead th {\n",
       "        text-align: right;\n",
       "    }\n",
       "</style>\n",
       "<table border=\"1\" class=\"dataframe\">\n",
       "  <thead>\n",
       "    <tr style=\"text-align: right;\">\n",
       "      <th></th>\n",
       "      <th>popularity</th>\n",
       "      <th>budget</th>\n",
       "      <th>revenue</th>\n",
       "      <th>runtime</th>\n",
       "      <th>vote_average</th>\n",
       "      <th>release_year</th>\n",
       "    </tr>\n",
       "  </thead>\n",
       "  <tbody>\n",
       "    <tr>\n",
       "      <th>count</th>\n",
       "      <td>3855.000000</td>\n",
       "      <td>3.855000e+03</td>\n",
       "      <td>3.855000e+03</td>\n",
       "      <td>3855.000000</td>\n",
       "      <td>3855.00000</td>\n",
       "      <td>3855.000000</td>\n",
       "    </tr>\n",
       "    <tr>\n",
       "      <th>mean</th>\n",
       "      <td>1.191400</td>\n",
       "      <td>3.720183e+07</td>\n",
       "      <td>1.076589e+08</td>\n",
       "      <td>109.215824</td>\n",
       "      <td>6.16786</td>\n",
       "      <td>2001.263294</td>\n",
       "    </tr>\n",
       "    <tr>\n",
       "      <th>std</th>\n",
       "      <td>1.475002</td>\n",
       "      <td>4.220291e+07</td>\n",
       "      <td>1.765248e+08</td>\n",
       "      <td>19.922166</td>\n",
       "      <td>0.79504</td>\n",
       "      <td>11.281989</td>\n",
       "    </tr>\n",
       "    <tr>\n",
       "      <th>min</th>\n",
       "      <td>0.001117</td>\n",
       "      <td>1.000000e+00</td>\n",
       "      <td>2.000000e+00</td>\n",
       "      <td>15.000000</td>\n",
       "      <td>2.20000</td>\n",
       "      <td>1960.000000</td>\n",
       "    </tr>\n",
       "    <tr>\n",
       "      <th>25%</th>\n",
       "      <td>0.462448</td>\n",
       "      <td>1.000000e+07</td>\n",
       "      <td>1.357645e+07</td>\n",
       "      <td>95.000000</td>\n",
       "      <td>5.70000</td>\n",
       "      <td>1995.000000</td>\n",
       "    </tr>\n",
       "    <tr>\n",
       "      <th>50%</th>\n",
       "      <td>0.797298</td>\n",
       "      <td>2.400000e+07</td>\n",
       "      <td>4.479322e+07</td>\n",
       "      <td>106.000000</td>\n",
       "      <td>6.20000</td>\n",
       "      <td>2004.000000</td>\n",
       "    </tr>\n",
       "    <tr>\n",
       "      <th>75%</th>\n",
       "      <td>1.368245</td>\n",
       "      <td>5.000000e+07</td>\n",
       "      <td>1.241530e+08</td>\n",
       "      <td>119.000000</td>\n",
       "      <td>6.70000</td>\n",
       "      <td>2010.000000</td>\n",
       "    </tr>\n",
       "    <tr>\n",
       "      <th>max</th>\n",
       "      <td>32.985763</td>\n",
       "      <td>4.250000e+08</td>\n",
       "      <td>2.781506e+09</td>\n",
       "      <td>338.000000</td>\n",
       "      <td>8.40000</td>\n",
       "      <td>2015.000000</td>\n",
       "    </tr>\n",
       "  </tbody>\n",
       "</table>\n",
       "</div>"
      ],
      "text/plain": [
       "        popularity        budget       revenue      runtime  vote_average  \\\n",
       "count  3855.000000  3.855000e+03  3.855000e+03  3855.000000    3855.00000   \n",
       "mean      1.191400  3.720183e+07  1.076589e+08   109.215824       6.16786   \n",
       "std       1.475002  4.220291e+07  1.765248e+08    19.922166       0.79504   \n",
       "min       0.001117  1.000000e+00  2.000000e+00    15.000000       2.20000   \n",
       "25%       0.462448  1.000000e+07  1.357645e+07    95.000000       5.70000   \n",
       "50%       0.797298  2.400000e+07  4.479322e+07   106.000000       6.20000   \n",
       "75%       1.368245  5.000000e+07  1.241530e+08   119.000000       6.70000   \n",
       "max      32.985763  4.250000e+08  2.781506e+09   338.000000       8.40000   \n",
       "\n",
       "       release_year  \n",
       "count   3855.000000  \n",
       "mean    2001.263294  \n",
       "std       11.281989  \n",
       "min     1960.000000  \n",
       "25%     1995.000000  \n",
       "50%     2004.000000  \n",
       "75%     2010.000000  \n",
       "max     2015.000000  "
      ]
     },
     "execution_count": 17,
     "metadata": {},
     "output_type": "execute_result"
    }
   ],
   "source": [
    "df.describe()"
   ]
  },
  {
   "cell_type": "markdown",
   "metadata": {},
   "source": [
    "let's also drop the one duplicate in our data"
   ]
  },
  {
   "cell_type": "code",
   "execution_count": 18,
   "metadata": {},
   "outputs": [
    {
     "data": {
      "text/plain": [
       "(3855, 11)"
      ]
     },
     "execution_count": 18,
     "metadata": {},
     "output_type": "execute_result"
    }
   ],
   "source": [
    "df.shape"
   ]
  },
  {
   "cell_type": "code",
   "execution_count": 19,
   "metadata": {},
   "outputs": [],
   "source": [
    "df.drop_duplicates(inplace=True)\n"
   ]
  },
  {
   "cell_type": "code",
   "execution_count": 20,
   "metadata": {},
   "outputs": [
    {
     "data": {
      "text/plain": [
       "(3854, 11)"
      ]
     },
     "execution_count": 20,
     "metadata": {},
     "output_type": "execute_result"
    }
   ],
   "source": [
    "df.shape"
   ]
  },
  {
   "cell_type": "markdown",
   "metadata": {},
   "source": [
    "successfully dropped the duplicate"
   ]
  },
  {
   "cell_type": "markdown",
   "metadata": {},
   "source": [
    "<a id='eda'></a>\n",
    "## Exploratory Data Analysis\n",
    "\n",
    "\n",
    "\n",
    "### What are the  Most Profitable Movies of all time ?\n",
    "\n",
    "\n"
   ]
  },
  {
   "cell_type": "markdown",
   "metadata": {},
   "source": [
    "we have to create a profit column and add it to the data, profit is obtained by\n",
    "substracting the revenue from the budget\n",
    "two values that this database have"
   ]
  },
  {
   "cell_type": "code",
   "execution_count": 21,
   "metadata": {},
   "outputs": [],
   "source": [
    "df['profit'] = df['revenue'] - df['budget']"
   ]
  },
  {
   "cell_type": "code",
   "execution_count": 22,
   "metadata": {},
   "outputs": [
    {
     "data": {
      "text/html": [
       "<div>\n",
       "<style scoped>\n",
       "    .dataframe tbody tr th:only-of-type {\n",
       "        vertical-align: middle;\n",
       "    }\n",
       "\n",
       "    .dataframe tbody tr th {\n",
       "        vertical-align: top;\n",
       "    }\n",
       "\n",
       "    .dataframe thead th {\n",
       "        text-align: right;\n",
       "    }\n",
       "</style>\n",
       "<table border=\"1\" class=\"dataframe\">\n",
       "  <thead>\n",
       "    <tr style=\"text-align: right;\">\n",
       "      <th></th>\n",
       "      <th>popularity</th>\n",
       "      <th>budget</th>\n",
       "      <th>revenue</th>\n",
       "      <th>original_title</th>\n",
       "      <th>cast</th>\n",
       "      <th>director</th>\n",
       "      <th>runtime</th>\n",
       "      <th>genres</th>\n",
       "      <th>release_date</th>\n",
       "      <th>vote_average</th>\n",
       "      <th>release_year</th>\n",
       "      <th>profit</th>\n",
       "    </tr>\n",
       "  </thead>\n",
       "  <tbody>\n",
       "    <tr>\n",
       "      <th>0</th>\n",
       "      <td>32.985763</td>\n",
       "      <td>150000000</td>\n",
       "      <td>1513528810</td>\n",
       "      <td>Jurassic World</td>\n",
       "      <td>Chris Pratt|Bryce Dallas Howard|Irrfan Khan|Vi...</td>\n",
       "      <td>Colin Trevorrow</td>\n",
       "      <td>124</td>\n",
       "      <td>Action|Adventure|Science Fiction|Thriller</td>\n",
       "      <td>6/9/15</td>\n",
       "      <td>6.5</td>\n",
       "      <td>2015</td>\n",
       "      <td>1363528810</td>\n",
       "    </tr>\n",
       "    <tr>\n",
       "      <th>1</th>\n",
       "      <td>28.419936</td>\n",
       "      <td>150000000</td>\n",
       "      <td>378436354</td>\n",
       "      <td>Mad Max: Fury Road</td>\n",
       "      <td>Tom Hardy|Charlize Theron|Hugh Keays-Byrne|Nic...</td>\n",
       "      <td>George Miller</td>\n",
       "      <td>120</td>\n",
       "      <td>Action|Adventure|Science Fiction|Thriller</td>\n",
       "      <td>5/13/15</td>\n",
       "      <td>7.1</td>\n",
       "      <td>2015</td>\n",
       "      <td>228436354</td>\n",
       "    </tr>\n",
       "    <tr>\n",
       "      <th>2</th>\n",
       "      <td>13.112507</td>\n",
       "      <td>110000000</td>\n",
       "      <td>295238201</td>\n",
       "      <td>Insurgent</td>\n",
       "      <td>Shailene Woodley|Theo James|Kate Winslet|Ansel...</td>\n",
       "      <td>Robert Schwentke</td>\n",
       "      <td>119</td>\n",
       "      <td>Adventure|Science Fiction|Thriller</td>\n",
       "      <td>3/18/15</td>\n",
       "      <td>6.3</td>\n",
       "      <td>2015</td>\n",
       "      <td>185238201</td>\n",
       "    </tr>\n",
       "    <tr>\n",
       "      <th>3</th>\n",
       "      <td>11.173104</td>\n",
       "      <td>200000000</td>\n",
       "      <td>2068178225</td>\n",
       "      <td>Star Wars: The Force Awakens</td>\n",
       "      <td>Harrison Ford|Mark Hamill|Carrie Fisher|Adam D...</td>\n",
       "      <td>J.J. Abrams</td>\n",
       "      <td>136</td>\n",
       "      <td>Action|Adventure|Science Fiction|Fantasy</td>\n",
       "      <td>12/15/15</td>\n",
       "      <td>7.5</td>\n",
       "      <td>2015</td>\n",
       "      <td>1868178225</td>\n",
       "    </tr>\n",
       "    <tr>\n",
       "      <th>4</th>\n",
       "      <td>9.335014</td>\n",
       "      <td>190000000</td>\n",
       "      <td>1506249360</td>\n",
       "      <td>Furious 7</td>\n",
       "      <td>Vin Diesel|Paul Walker|Jason Statham|Michelle ...</td>\n",
       "      <td>James Wan</td>\n",
       "      <td>137</td>\n",
       "      <td>Action|Crime|Thriller</td>\n",
       "      <td>4/1/15</td>\n",
       "      <td>7.3</td>\n",
       "      <td>2015</td>\n",
       "      <td>1316249360</td>\n",
       "    </tr>\n",
       "  </tbody>\n",
       "</table>\n",
       "</div>"
      ],
      "text/plain": [
       "   popularity     budget     revenue                original_title  \\\n",
       "0   32.985763  150000000  1513528810                Jurassic World   \n",
       "1   28.419936  150000000   378436354            Mad Max: Fury Road   \n",
       "2   13.112507  110000000   295238201                     Insurgent   \n",
       "3   11.173104  200000000  2068178225  Star Wars: The Force Awakens   \n",
       "4    9.335014  190000000  1506249360                     Furious 7   \n",
       "\n",
       "                                                cast          director  \\\n",
       "0  Chris Pratt|Bryce Dallas Howard|Irrfan Khan|Vi...   Colin Trevorrow   \n",
       "1  Tom Hardy|Charlize Theron|Hugh Keays-Byrne|Nic...     George Miller   \n",
       "2  Shailene Woodley|Theo James|Kate Winslet|Ansel...  Robert Schwentke   \n",
       "3  Harrison Ford|Mark Hamill|Carrie Fisher|Adam D...       J.J. Abrams   \n",
       "4  Vin Diesel|Paul Walker|Jason Statham|Michelle ...         James Wan   \n",
       "\n",
       "   runtime                                     genres release_date  \\\n",
       "0      124  Action|Adventure|Science Fiction|Thriller       6/9/15   \n",
       "1      120  Action|Adventure|Science Fiction|Thriller      5/13/15   \n",
       "2      119         Adventure|Science Fiction|Thriller      3/18/15   \n",
       "3      136   Action|Adventure|Science Fiction|Fantasy     12/15/15   \n",
       "4      137                      Action|Crime|Thriller       4/1/15   \n",
       "\n",
       "   vote_average  release_year      profit  \n",
       "0           6.5          2015  1363528810  \n",
       "1           7.1          2015   228436354  \n",
       "2           6.3          2015   185238201  \n",
       "3           7.5          2015  1868178225  \n",
       "4           7.3          2015  1316249360  "
      ]
     },
     "execution_count": 22,
     "metadata": {},
     "output_type": "execute_result"
    }
   ],
   "source": [
    "df.head()"
   ]
  },
  {
   "cell_type": "markdown",
   "metadata": {},
   "source": [
    "to see the most profitable movies let's sort the data by profit"
   ]
  },
  {
   "cell_type": "code",
   "execution_count": 23,
   "metadata": {},
   "outputs": [],
   "source": [
    "df_profit_sorted = df.sort_values('profit',ascending=False)"
   ]
  },
  {
   "cell_type": "markdown",
   "metadata": {},
   "source": [
    "now get only the top ten most profitable movies"
   ]
  },
  {
   "cell_type": "code",
   "execution_count": 24,
   "metadata": {},
   "outputs": [],
   "source": [
    "top_ten_profit = df_profit_sorted.head(10)"
   ]
  },
  {
   "cell_type": "code",
   "execution_count": 35,
   "metadata": {
    "scrolled": true
   },
   "outputs": [
    {
     "data": {
      "text/html": [
       "<div>\n",
       "<style scoped>\n",
       "    .dataframe tbody tr th:only-of-type {\n",
       "        vertical-align: middle;\n",
       "    }\n",
       "\n",
       "    .dataframe tbody tr th {\n",
       "        vertical-align: top;\n",
       "    }\n",
       "\n",
       "    .dataframe thead th {\n",
       "        text-align: right;\n",
       "    }\n",
       "</style>\n",
       "<table border=\"1\" class=\"dataframe\">\n",
       "  <thead>\n",
       "    <tr style=\"text-align: right;\">\n",
       "      <th></th>\n",
       "      <th>popularity</th>\n",
       "      <th>budget</th>\n",
       "      <th>revenue</th>\n",
       "      <th>original_title</th>\n",
       "      <th>cast</th>\n",
       "      <th>director</th>\n",
       "      <th>runtime</th>\n",
       "      <th>genres</th>\n",
       "      <th>release_date</th>\n",
       "      <th>vote_average</th>\n",
       "      <th>release_year</th>\n",
       "      <th>profit</th>\n",
       "    </tr>\n",
       "  </thead>\n",
       "  <tbody>\n",
       "    <tr>\n",
       "      <th>1386</th>\n",
       "      <td>9.432768</td>\n",
       "      <td>237000000</td>\n",
       "      <td>2781505847</td>\n",
       "      <td>Avatar</td>\n",
       "      <td>Sam Worthington|Zoe Saldana|Sigourney Weaver|S...</td>\n",
       "      <td>James Cameron</td>\n",
       "      <td>162</td>\n",
       "      <td>Action|Adventure|Fantasy|Science Fiction</td>\n",
       "      <td>12/10/09</td>\n",
       "      <td>7.1</td>\n",
       "      <td>2009</td>\n",
       "      <td>2544505847</td>\n",
       "    </tr>\n",
       "    <tr>\n",
       "      <th>3</th>\n",
       "      <td>11.173104</td>\n",
       "      <td>200000000</td>\n",
       "      <td>2068178225</td>\n",
       "      <td>Star Wars: The Force Awakens</td>\n",
       "      <td>Harrison Ford|Mark Hamill|Carrie Fisher|Adam D...</td>\n",
       "      <td>J.J. Abrams</td>\n",
       "      <td>136</td>\n",
       "      <td>Action|Adventure|Science Fiction|Fantasy</td>\n",
       "      <td>12/15/15</td>\n",
       "      <td>7.5</td>\n",
       "      <td>2015</td>\n",
       "      <td>1868178225</td>\n",
       "    </tr>\n",
       "    <tr>\n",
       "      <th>5231</th>\n",
       "      <td>4.355219</td>\n",
       "      <td>200000000</td>\n",
       "      <td>1845034188</td>\n",
       "      <td>Titanic</td>\n",
       "      <td>Kate Winslet|Leonardo DiCaprio|Frances Fisher|...</td>\n",
       "      <td>James Cameron</td>\n",
       "      <td>194</td>\n",
       "      <td>Drama|Romance|Thriller</td>\n",
       "      <td>11/18/97</td>\n",
       "      <td>7.3</td>\n",
       "      <td>1997</td>\n",
       "      <td>1645034188</td>\n",
       "    </tr>\n",
       "    <tr>\n",
       "      <th>0</th>\n",
       "      <td>32.985763</td>\n",
       "      <td>150000000</td>\n",
       "      <td>1513528810</td>\n",
       "      <td>Jurassic World</td>\n",
       "      <td>Chris Pratt|Bryce Dallas Howard|Irrfan Khan|Vi...</td>\n",
       "      <td>Colin Trevorrow</td>\n",
       "      <td>124</td>\n",
       "      <td>Action|Adventure|Science Fiction|Thriller</td>\n",
       "      <td>6/9/15</td>\n",
       "      <td>6.5</td>\n",
       "      <td>2015</td>\n",
       "      <td>1363528810</td>\n",
       "    </tr>\n",
       "    <tr>\n",
       "      <th>4</th>\n",
       "      <td>9.335014</td>\n",
       "      <td>190000000</td>\n",
       "      <td>1506249360</td>\n",
       "      <td>Furious 7</td>\n",
       "      <td>Vin Diesel|Paul Walker|Jason Statham|Michelle ...</td>\n",
       "      <td>James Wan</td>\n",
       "      <td>137</td>\n",
       "      <td>Action|Crime|Thriller</td>\n",
       "      <td>4/1/15</td>\n",
       "      <td>7.3</td>\n",
       "      <td>2015</td>\n",
       "      <td>1316249360</td>\n",
       "    </tr>\n",
       "    <tr>\n",
       "      <th>4361</th>\n",
       "      <td>7.637767</td>\n",
       "      <td>220000000</td>\n",
       "      <td>1519557910</td>\n",
       "      <td>The Avengers</td>\n",
       "      <td>Robert Downey Jr.|Chris Evans|Mark Ruffalo|Chr...</td>\n",
       "      <td>Joss Whedon</td>\n",
       "      <td>143</td>\n",
       "      <td>Science Fiction|Action|Adventure</td>\n",
       "      <td>4/25/12</td>\n",
       "      <td>7.3</td>\n",
       "      <td>2012</td>\n",
       "      <td>1299557910</td>\n",
       "    </tr>\n",
       "    <tr>\n",
       "      <th>3374</th>\n",
       "      <td>5.711315</td>\n",
       "      <td>125000000</td>\n",
       "      <td>1327817822</td>\n",
       "      <td>Harry Potter and the Deathly Hallows: Part 2</td>\n",
       "      <td>Daniel Radcliffe|Rupert Grint|Emma Watson|Alan...</td>\n",
       "      <td>David Yates</td>\n",
       "      <td>130</td>\n",
       "      <td>Adventure|Family|Fantasy</td>\n",
       "      <td>7/7/11</td>\n",
       "      <td>7.7</td>\n",
       "      <td>2011</td>\n",
       "      <td>1202817822</td>\n",
       "    </tr>\n",
       "    <tr>\n",
       "      <th>14</th>\n",
       "      <td>5.944927</td>\n",
       "      <td>280000000</td>\n",
       "      <td>1405035767</td>\n",
       "      <td>Avengers: Age of Ultron</td>\n",
       "      <td>Robert Downey Jr.|Chris Hemsworth|Mark Ruffalo...</td>\n",
       "      <td>Joss Whedon</td>\n",
       "      <td>141</td>\n",
       "      <td>Action|Adventure|Science Fiction</td>\n",
       "      <td>4/22/15</td>\n",
       "      <td>7.4</td>\n",
       "      <td>2015</td>\n",
       "      <td>1125035767</td>\n",
       "    </tr>\n",
       "    <tr>\n",
       "      <th>5422</th>\n",
       "      <td>6.112766</td>\n",
       "      <td>150000000</td>\n",
       "      <td>1274219009</td>\n",
       "      <td>Frozen</td>\n",
       "      <td>Kristen Bell|Idina Menzel|Jonathan Groff|Josh ...</td>\n",
       "      <td>Chris Buck|Jennifer Lee</td>\n",
       "      <td>102</td>\n",
       "      <td>Animation|Adventure|Family</td>\n",
       "      <td>11/27/13</td>\n",
       "      <td>7.5</td>\n",
       "      <td>2013</td>\n",
       "      <td>1124219009</td>\n",
       "    </tr>\n",
       "    <tr>\n",
       "      <th>8094</th>\n",
       "      <td>1.136610</td>\n",
       "      <td>22000000</td>\n",
       "      <td>1106279658</td>\n",
       "      <td>The Net</td>\n",
       "      <td>Sandra Bullock|Jeremy Northam|Dennis Miller|We...</td>\n",
       "      <td>Irwin Winkler</td>\n",
       "      <td>114</td>\n",
       "      <td>Crime|Drama|Mystery|Thriller|Action</td>\n",
       "      <td>7/28/95</td>\n",
       "      <td>5.6</td>\n",
       "      <td>1995</td>\n",
       "      <td>1084279658</td>\n",
       "    </tr>\n",
       "  </tbody>\n",
       "</table>\n",
       "</div>"
      ],
      "text/plain": [
       "      popularity     budget     revenue  \\\n",
       "1386    9.432768  237000000  2781505847   \n",
       "3      11.173104  200000000  2068178225   \n",
       "5231    4.355219  200000000  1845034188   \n",
       "0      32.985763  150000000  1513528810   \n",
       "4       9.335014  190000000  1506249360   \n",
       "4361    7.637767  220000000  1519557910   \n",
       "3374    5.711315  125000000  1327817822   \n",
       "14      5.944927  280000000  1405035767   \n",
       "5422    6.112766  150000000  1274219009   \n",
       "8094    1.136610   22000000  1106279658   \n",
       "\n",
       "                                    original_title  \\\n",
       "1386                                        Avatar   \n",
       "3                     Star Wars: The Force Awakens   \n",
       "5231                                       Titanic   \n",
       "0                                   Jurassic World   \n",
       "4                                        Furious 7   \n",
       "4361                                  The Avengers   \n",
       "3374  Harry Potter and the Deathly Hallows: Part 2   \n",
       "14                         Avengers: Age of Ultron   \n",
       "5422                                        Frozen   \n",
       "8094                                       The Net   \n",
       "\n",
       "                                                   cast  \\\n",
       "1386  Sam Worthington|Zoe Saldana|Sigourney Weaver|S...   \n",
       "3     Harrison Ford|Mark Hamill|Carrie Fisher|Adam D...   \n",
       "5231  Kate Winslet|Leonardo DiCaprio|Frances Fisher|...   \n",
       "0     Chris Pratt|Bryce Dallas Howard|Irrfan Khan|Vi...   \n",
       "4     Vin Diesel|Paul Walker|Jason Statham|Michelle ...   \n",
       "4361  Robert Downey Jr.|Chris Evans|Mark Ruffalo|Chr...   \n",
       "3374  Daniel Radcliffe|Rupert Grint|Emma Watson|Alan...   \n",
       "14    Robert Downey Jr.|Chris Hemsworth|Mark Ruffalo...   \n",
       "5422  Kristen Bell|Idina Menzel|Jonathan Groff|Josh ...   \n",
       "8094  Sandra Bullock|Jeremy Northam|Dennis Miller|We...   \n",
       "\n",
       "                     director  runtime  \\\n",
       "1386            James Cameron      162   \n",
       "3                 J.J. Abrams      136   \n",
       "5231            James Cameron      194   \n",
       "0             Colin Trevorrow      124   \n",
       "4                   James Wan      137   \n",
       "4361              Joss Whedon      143   \n",
       "3374              David Yates      130   \n",
       "14                Joss Whedon      141   \n",
       "5422  Chris Buck|Jennifer Lee      102   \n",
       "8094            Irwin Winkler      114   \n",
       "\n",
       "                                         genres release_date  vote_average  \\\n",
       "1386   Action|Adventure|Fantasy|Science Fiction     12/10/09           7.1   \n",
       "3      Action|Adventure|Science Fiction|Fantasy     12/15/15           7.5   \n",
       "5231                     Drama|Romance|Thriller     11/18/97           7.3   \n",
       "0     Action|Adventure|Science Fiction|Thriller       6/9/15           6.5   \n",
       "4                         Action|Crime|Thriller       4/1/15           7.3   \n",
       "4361           Science Fiction|Action|Adventure      4/25/12           7.3   \n",
       "3374                   Adventure|Family|Fantasy       7/7/11           7.7   \n",
       "14             Action|Adventure|Science Fiction      4/22/15           7.4   \n",
       "5422                 Animation|Adventure|Family     11/27/13           7.5   \n",
       "8094        Crime|Drama|Mystery|Thriller|Action      7/28/95           5.6   \n",
       "\n",
       "      release_year      profit  \n",
       "1386          2009  2544505847  \n",
       "3             2015  1868178225  \n",
       "5231          1997  1645034188  \n",
       "0             2015  1363528810  \n",
       "4             2015  1316249360  \n",
       "4361          2012  1299557910  \n",
       "3374          2011  1202817822  \n",
       "14            2015  1125035767  \n",
       "5422          2013  1124219009  \n",
       "8094          1995  1084279658  "
      ]
     },
     "execution_count": 35,
     "metadata": {},
     "output_type": "execute_result"
    }
   ],
   "source": [
    "top_ten_profit"
   ]
  },
  {
   "cell_type": "code",
   "execution_count": 27,
   "metadata": {},
   "outputs": [
    {
     "data": {
      "image/png": "[encoded data removed]",
      "text/plain": [
       "<Figure size 1440x576 with 1 Axes>"
      ]
     },
     "metadata": {
      "needs_background": "light"
     },
     "output_type": "display_data"
    }
   ],
   "source": [
    "plt.figure(figsize=(20, 8));\n",
    "plt.bar([1,2,3,4,5,6,7,8,9,10], top_ten_profit['profit'],tick_label=top_ten_profit['original_title'], width=.3)\n",
    "plt.xlabel('Movies Original Title')\n",
    "plt.ylabel('Profit of movies')\n",
    "plt.title('top Ten most profitable movies of all time');"
   ]
  },
  {
   "cell_type": "code",
   "execution_count": 62,
   "metadata": {},
   "outputs": [
    {
     "data": {
      "image/png": "[encoded data removed]",
      "text/plain": [
       "<Figure size 432x288 with 1 Axes>"
      ]
     },
     "metadata": {
      "needs_background": "light"
     },
     "output_type": "display_data"
    }
   ],
   "source": [
    "ax = sns.barplot(x=\"profit\", y=\"original_title\", data=top_ten_profit).set(title='top Ten most profitable movies of all time')\n"
   ]
  },
  {
   "cell_type": "markdown",
   "metadata": {},
   "source": [
    "from the above query we can see that the top 10 most profitable movies of all time are\n",
    "1-Avatar 2-Star Wars: The Force Awakens 3-Titanic 4-Jurassic World 5-Furious 7 6-The Avengers 7-Harry Potter and the Deathly Hallows: Part 2 \n",
    "8-Avengers: Age of Ultron 9-Frozen\n",
    "10-The Net"
   ]
  },
  {
   "cell_type": "markdown",
   "metadata": {},
   "source": [
    "###  What kinds of properties are associated with movies that have high profit?\n",
    "\n",
    "inorder to examine what qualties does highly profitable movies share we must first create a dataframe that contains only the \n",
    "most profitable movies on the the list\n",
    "\n",
    "we will do that by taking anything above the third quartert Q3 of the data\n",
    "\n",
    "\n",
    "\n"
   ]
  },
  {
   "cell_type": "code",
   "execution_count": 42,
   "metadata": {},
   "outputs": [],
   "source": [
    "Q3 = df.describe().profit[6]"
   ]
  },
  {
   "cell_type": "code",
   "execution_count": 43,
   "metadata": {},
   "outputs": [
    {
     "data": {
      "text/plain": [
       "81703308.0"
      ]
     },
     "execution_count": 43,
     "metadata": {},
     "output_type": "execute_result"
    }
   ],
   "source": [
    "Q3"
   ]
  },
  {
   "cell_type": "code",
   "execution_count": 44,
   "metadata": {},
   "outputs": [],
   "source": [
    "profitable_movies = df.query(\"profit > {}\".format(Q3))"
   ]
  },
  {
   "cell_type": "markdown",
   "metadata": {},
   "source": [
    "check on our new data"
   ]
  },
  {
   "cell_type": "code",
   "execution_count": 45,
   "metadata": {},
   "outputs": [
    {
     "data": {
      "text/plain": [
       "(964, 12)"
      ]
     },
     "execution_count": 45,
     "metadata": {},
     "output_type": "execute_result"
    }
   ],
   "source": [
    "profitable_movies.shape"
   ]
  },
  {
   "cell_type": "code",
   "execution_count": 46,
   "metadata": {},
   "outputs": [
    {
     "name": "stdout",
     "output_type": "stream",
     "text": [
      "<class 'pandas.core.frame.DataFrame'>\n",
      "Int64Index: 964 entries, 0 to 10760\n",
      "Data columns (total 12 columns):\n",
      " #   Column          Non-Null Count  Dtype  \n",
      "---  ------          --------------  -----  \n",
      " 0   popularity      964 non-null    float64\n",
      " 1   budget          964 non-null    int64  \n",
      " 2   revenue         964 non-null    int64  \n",
      " 3   original_title  964 non-null    object \n",
      " 4   cast            964 non-null    object \n",
      " 5   director        964 non-null    object \n",
      " 6   runtime         964 non-null    int64  \n",
      " 7   genres          964 non-null    object \n",
      " 8   release_date    964 non-null    object \n",
      " 9   vote_average    964 non-null    float64\n",
      " 10  release_year    964 non-null    int64  \n",
      " 11  profit          964 non-null    int64  \n",
      "dtypes: float64(2), int64(5), object(5)\n",
      "memory usage: 97.9+ KB\n"
     ]
    }
   ],
   "source": [
    "profitable_movies.info()"
   ]
  },
  {
   "cell_type": "markdown",
   "metadata": {},
   "source": [
    "### what is the average runtime for the most profitable movies ? "
   ]
  },
  {
   "cell_type": "markdown",
   "metadata": {},
   "source": [
    "this is a function to calculate the mean value for any certain column "
   ]
  },
  {
   "cell_type": "code",
   "execution_count": 47,
   "metadata": {},
   "outputs": [],
   "source": [
    "def avg_prof(column):\n",
    "    return profitable_movies[column].mean()"
   ]
  },
  {
   "cell_type": "code",
   "execution_count": 48,
   "metadata": {},
   "outputs": [
    {
     "data": {
      "text/html": [
       "<div>\n",
       "<style scoped>\n",
       "    .dataframe tbody tr th:only-of-type {\n",
       "        vertical-align: middle;\n",
       "    }\n",
       "\n",
       "    .dataframe tbody tr th {\n",
       "        vertical-align: top;\n",
       "    }\n",
       "\n",
       "    .dataframe thead th {\n",
       "        text-align: right;\n",
       "    }\n",
       "</style>\n",
       "<table border=\"1\" class=\"dataframe\">\n",
       "  <thead>\n",
       "    <tr style=\"text-align: right;\">\n",
       "      <th></th>\n",
       "      <th>popularity</th>\n",
       "      <th>budget</th>\n",
       "      <th>revenue</th>\n",
       "      <th>runtime</th>\n",
       "      <th>vote_average</th>\n",
       "      <th>release_year</th>\n",
       "      <th>profit</th>\n",
       "    </tr>\n",
       "  </thead>\n",
       "  <tbody>\n",
       "    <tr>\n",
       "      <th>count</th>\n",
       "      <td>964.000000</td>\n",
       "      <td>9.640000e+02</td>\n",
       "      <td>9.640000e+02</td>\n",
       "      <td>964.000000</td>\n",
       "      <td>964.000000</td>\n",
       "      <td>964.000000</td>\n",
       "      <td>9.640000e+02</td>\n",
       "    </tr>\n",
       "    <tr>\n",
       "      <th>mean</th>\n",
       "      <td>2.291243</td>\n",
       "      <td>6.966615e+07</td>\n",
       "      <td>3.147646e+08</td>\n",
       "      <td>115.214730</td>\n",
       "      <td>6.447407</td>\n",
       "      <td>2002.704357</td>\n",
       "      <td>2.450985e+08</td>\n",
       "    </tr>\n",
       "    <tr>\n",
       "      <th>std</th>\n",
       "      <td>2.329738</td>\n",
       "      <td>5.669029e+07</td>\n",
       "      <td>2.508670e+08</td>\n",
       "      <td>21.223396</td>\n",
       "      <td>0.700040</td>\n",
       "      <td>10.373339</td>\n",
       "      <td>2.177251e+08</td>\n",
       "    </tr>\n",
       "    <tr>\n",
       "      <th>min</th>\n",
       "      <td>0.131526</td>\n",
       "      <td>1.130000e+02</td>\n",
       "      <td>8.627333e+07</td>\n",
       "      <td>72.000000</td>\n",
       "      <td>4.400000</td>\n",
       "      <td>1961.000000</td>\n",
       "      <td>8.172336e+07</td>\n",
       "    </tr>\n",
       "    <tr>\n",
       "      <th>25%</th>\n",
       "      <td>1.097410</td>\n",
       "      <td>2.675000e+07</td>\n",
       "      <td>1.595448e+08</td>\n",
       "      <td>99.000000</td>\n",
       "      <td>6.000000</td>\n",
       "      <td>1997.000000</td>\n",
       "      <td>1.131544e+08</td>\n",
       "    </tr>\n",
       "    <tr>\n",
       "      <th>50%</th>\n",
       "      <td>1.695317</td>\n",
       "      <td>5.400000e+07</td>\n",
       "      <td>2.314304e+08</td>\n",
       "      <td>113.000000</td>\n",
       "      <td>6.400000</td>\n",
       "      <td>2005.000000</td>\n",
       "      <td>1.655408e+08</td>\n",
       "    </tr>\n",
       "    <tr>\n",
       "      <th>75%</th>\n",
       "      <td>2.691072</td>\n",
       "      <td>1.000000e+08</td>\n",
       "      <td>3.682613e+08</td>\n",
       "      <td>128.000000</td>\n",
       "      <td>7.000000</td>\n",
       "      <td>2011.000000</td>\n",
       "      <td>2.871736e+08</td>\n",
       "    </tr>\n",
       "    <tr>\n",
       "      <th>max</th>\n",
       "      <td>32.985763</td>\n",
       "      <td>3.800000e+08</td>\n",
       "      <td>2.781506e+09</td>\n",
       "      <td>201.000000</td>\n",
       "      <td>8.300000</td>\n",
       "      <td>2015.000000</td>\n",
       "      <td>2.544506e+09</td>\n",
       "    </tr>\n",
       "  </tbody>\n",
       "</table>\n",
       "</div>"
      ],
      "text/plain": [
       "       popularity        budget       revenue     runtime  vote_average  \\\n",
       "count  964.000000  9.640000e+02  9.640000e+02  964.000000    964.000000   \n",
       "mean     2.291243  6.966615e+07  3.147646e+08  115.214730      6.447407   \n",
       "std      2.329738  5.669029e+07  2.508670e+08   21.223396      0.700040   \n",
       "min      0.131526  1.130000e+02  8.627333e+07   72.000000      4.400000   \n",
       "25%      1.097410  2.675000e+07  1.595448e+08   99.000000      6.000000   \n",
       "50%      1.695317  5.400000e+07  2.314304e+08  113.000000      6.400000   \n",
       "75%      2.691072  1.000000e+08  3.682613e+08  128.000000      7.000000   \n",
       "max     32.985763  3.800000e+08  2.781506e+09  201.000000      8.300000   \n",
       "\n",
       "       release_year        profit  \n",
       "count    964.000000  9.640000e+02  \n",
       "mean    2002.704357  2.450985e+08  \n",
       "std       10.373339  2.177251e+08  \n",
       "min     1961.000000  8.172336e+07  \n",
       "25%     1997.000000  1.131544e+08  \n",
       "50%     2005.000000  1.655408e+08  \n",
       "75%     2011.000000  2.871736e+08  \n",
       "max     2015.000000  2.544506e+09  "
      ]
     },
     "execution_count": 48,
     "metadata": {},
     "output_type": "execute_result"
    }
   ],
   "source": [
    "profitable_movies.describe()"
   ]
  },
  {
   "cell_type": "code",
   "execution_count": 49,
   "metadata": {},
   "outputs": [
    {
     "data": {
      "text/plain": [
       "115.21473029045643"
      ]
     },
     "execution_count": 49,
     "metadata": {},
     "output_type": "execute_result"
    }
   ],
   "source": [
    "avg_prof('runtime')"
   ]
  },
  {
   "cell_type": "markdown",
   "metadata": {},
   "source": [
    "the average runtime for the most profitable movies is 115.2 minutes"
   ]
  },
  {
   "cell_type": "markdown",
   "metadata": {},
   "source": [
    "### what is the average budget for the most profitable movies ? "
   ]
  },
  {
   "cell_type": "code",
   "execution_count": 50,
   "metadata": {},
   "outputs": [
    {
     "data": {
      "text/plain": [
       "69666148.45746888"
      ]
     },
     "execution_count": 50,
     "metadata": {},
     "output_type": "execute_result"
    }
   ],
   "source": [
    "avg_prof('budget')"
   ]
  },
  {
   "cell_type": "markdown",
   "metadata": {},
   "source": [
    "the average budget for the most profitable movies is 69666148.45 usd\n"
   ]
  },
  {
   "cell_type": "markdown",
   "metadata": {},
   "source": [
    "### what is the average vote for the most profitable movies ? "
   ]
  },
  {
   "cell_type": "code",
   "execution_count": 51,
   "metadata": {},
   "outputs": [
    {
     "data": {
      "text/plain": [
       "6.447406639004151"
      ]
     },
     "execution_count": 51,
     "metadata": {},
     "output_type": "execute_result"
    }
   ],
   "source": [
    "avg_prof('vote_average')"
   ]
  },
  {
   "cell_type": "markdown",
   "metadata": {},
   "source": [
    "the average vote for the most profitable movies is 6.4"
   ]
  },
  {
   "cell_type": "markdown",
   "metadata": {},
   "source": [
    "###  What kinds of properties are associated with movies that are highly  popular ?\n",
    "\n",
    "inorder to examine what qualties does highly popular movies share we must first create a dataframe that contains only the \n",
    "most popular movies on the the list\n",
    "\n",
    "we will do that by taking anything above the third quartert Q3 of the data\n"
   ]
  },
  {
   "cell_type": "code",
   "execution_count": 52,
   "metadata": {},
   "outputs": [
    {
     "data": {
      "text/html": [
       "<div>\n",
       "<style scoped>\n",
       "    .dataframe tbody tr th:only-of-type {\n",
       "        vertical-align: middle;\n",
       "    }\n",
       "\n",
       "    .dataframe tbody tr th {\n",
       "        vertical-align: top;\n",
       "    }\n",
       "\n",
       "    .dataframe thead th {\n",
       "        text-align: right;\n",
       "    }\n",
       "</style>\n",
       "<table border=\"1\" class=\"dataframe\">\n",
       "  <thead>\n",
       "    <tr style=\"text-align: right;\">\n",
       "      <th></th>\n",
       "      <th>popularity</th>\n",
       "      <th>budget</th>\n",
       "      <th>revenue</th>\n",
       "      <th>runtime</th>\n",
       "      <th>vote_average</th>\n",
       "      <th>release_year</th>\n",
       "      <th>profit</th>\n",
       "    </tr>\n",
       "  </thead>\n",
       "  <tbody>\n",
       "    <tr>\n",
       "      <th>count</th>\n",
       "      <td>3854.000000</td>\n",
       "      <td>3.854000e+03</td>\n",
       "      <td>3.854000e+03</td>\n",
       "      <td>3854.000000</td>\n",
       "      <td>3854.000000</td>\n",
       "      <td>3854.000000</td>\n",
       "      <td>3.854000e+03</td>\n",
       "    </tr>\n",
       "    <tr>\n",
       "      <th>mean</th>\n",
       "      <td>1.191554</td>\n",
       "      <td>3.720370e+07</td>\n",
       "      <td>1.076866e+08</td>\n",
       "      <td>109.220291</td>\n",
       "      <td>6.168163</td>\n",
       "      <td>2001.261028</td>\n",
       "      <td>7.048292e+07</td>\n",
       "    </tr>\n",
       "    <tr>\n",
       "      <th>std</th>\n",
       "      <td>1.475162</td>\n",
       "      <td>4.220822e+07</td>\n",
       "      <td>1.765393e+08</td>\n",
       "      <td>19.922820</td>\n",
       "      <td>0.794920</td>\n",
       "      <td>11.282575</td>\n",
       "      <td>1.506195e+08</td>\n",
       "    </tr>\n",
       "    <tr>\n",
       "      <th>min</th>\n",
       "      <td>0.001117</td>\n",
       "      <td>1.000000e+00</td>\n",
       "      <td>2.000000e+00</td>\n",
       "      <td>15.000000</td>\n",
       "      <td>2.200000</td>\n",
       "      <td>1960.000000</td>\n",
       "      <td>-4.139124e+08</td>\n",
       "    </tr>\n",
       "    <tr>\n",
       "      <th>25%</th>\n",
       "      <td>0.462367</td>\n",
       "      <td>1.000000e+07</td>\n",
       "      <td>1.360003e+07</td>\n",
       "      <td>95.000000</td>\n",
       "      <td>5.700000</td>\n",
       "      <td>1995.000000</td>\n",
       "      <td>-1.321535e+06</td>\n",
       "    </tr>\n",
       "    <tr>\n",
       "      <th>50%</th>\n",
       "      <td>0.797511</td>\n",
       "      <td>2.400000e+07</td>\n",
       "      <td>4.480000e+07</td>\n",
       "      <td>106.000000</td>\n",
       "      <td>6.200000</td>\n",
       "      <td>2004.000000</td>\n",
       "      <td>2.002019e+07</td>\n",
       "    </tr>\n",
       "    <tr>\n",
       "      <th>75%</th>\n",
       "      <td>1.368324</td>\n",
       "      <td>5.000000e+07</td>\n",
       "      <td>1.242125e+08</td>\n",
       "      <td>119.000000</td>\n",
       "      <td>6.700000</td>\n",
       "      <td>2010.000000</td>\n",
       "      <td>8.170331e+07</td>\n",
       "    </tr>\n",
       "    <tr>\n",
       "      <th>max</th>\n",
       "      <td>32.985763</td>\n",
       "      <td>4.250000e+08</td>\n",
       "      <td>2.781506e+09</td>\n",
       "      <td>338.000000</td>\n",
       "      <td>8.400000</td>\n",
       "      <td>2015.000000</td>\n",
       "      <td>2.544506e+09</td>\n",
       "    </tr>\n",
       "  </tbody>\n",
       "</table>\n",
       "</div>"
      ],
      "text/plain": [
       "        popularity        budget       revenue      runtime  vote_average  \\\n",
       "count  3854.000000  3.854000e+03  3.854000e+03  3854.000000   3854.000000   \n",
       "mean      1.191554  3.720370e+07  1.076866e+08   109.220291      6.168163   \n",
       "std       1.475162  4.220822e+07  1.765393e+08    19.922820      0.794920   \n",
       "min       0.001117  1.000000e+00  2.000000e+00    15.000000      2.200000   \n",
       "25%       0.462367  1.000000e+07  1.360003e+07    95.000000      5.700000   \n",
       "50%       0.797511  2.400000e+07  4.480000e+07   106.000000      6.200000   \n",
       "75%       1.368324  5.000000e+07  1.242125e+08   119.000000      6.700000   \n",
       "max      32.985763  4.250000e+08  2.781506e+09   338.000000      8.400000   \n",
       "\n",
       "       release_year        profit  \n",
       "count   3854.000000  3.854000e+03  \n",
       "mean    2001.261028  7.048292e+07  \n",
       "std       11.282575  1.506195e+08  \n",
       "min     1960.000000 -4.139124e+08  \n",
       "25%     1995.000000 -1.321535e+06  \n",
       "50%     2004.000000  2.002019e+07  \n",
       "75%     2010.000000  8.170331e+07  \n",
       "max     2015.000000  2.544506e+09  "
      ]
     },
     "execution_count": 52,
     "metadata": {},
     "output_type": "execute_result"
    }
   ],
   "source": [
    "df.describe()"
   ]
  },
  {
   "cell_type": "code",
   "execution_count": 53,
   "metadata": {},
   "outputs": [
    {
     "data": {
      "text/plain": [
       "1.368324"
      ]
     },
     "execution_count": 53,
     "metadata": {},
     "output_type": "execute_result"
    }
   ],
   "source": [
    "Q3pop = df.describe().popularity[6]\n",
    "Q3pop"
   ]
  },
  {
   "cell_type": "code",
   "execution_count": 54,
   "metadata": {},
   "outputs": [
    {
     "data": {
      "text/plain": [
       "(964, 12)"
      ]
     },
     "execution_count": 54,
     "metadata": {},
     "output_type": "execute_result"
    }
   ],
   "source": [
    "pop_movies = df.query(\"popularity > {}\".format(Q3pop))\n",
    "pop_movies.shape"
   ]
  },
  {
   "cell_type": "code",
   "execution_count": 55,
   "metadata": {},
   "outputs": [
    {
     "name": "stdout",
     "output_type": "stream",
     "text": [
      "<class 'pandas.core.frame.DataFrame'>\n",
      "Int64Index: 964 entries, 0 to 10756\n",
      "Data columns (total 12 columns):\n",
      " #   Column          Non-Null Count  Dtype  \n",
      "---  ------          --------------  -----  \n",
      " 0   popularity      964 non-null    float64\n",
      " 1   budget          964 non-null    int64  \n",
      " 2   revenue         964 non-null    int64  \n",
      " 3   original_title  964 non-null    object \n",
      " 4   cast            964 non-null    object \n",
      " 5   director        964 non-null    object \n",
      " 6   runtime         964 non-null    int64  \n",
      " 7   genres          964 non-null    object \n",
      " 8   release_date    964 non-null    object \n",
      " 9   vote_average    964 non-null    float64\n",
      " 10  release_year    964 non-null    int64  \n",
      " 11  profit          964 non-null    int64  \n",
      "dtypes: float64(2), int64(5), object(5)\n",
      "memory usage: 97.9+ KB\n"
     ]
    }
   ],
   "source": [
    "pop_movies.info()"
   ]
  },
  {
   "cell_type": "code",
   "execution_count": 56,
   "metadata": {},
   "outputs": [
    {
     "data": {
      "text/html": [
       "<div>\n",
       "<style scoped>\n",
       "    .dataframe tbody tr th:only-of-type {\n",
       "        vertical-align: middle;\n",
       "    }\n",
       "\n",
       "    .dataframe tbody tr th {\n",
       "        vertical-align: top;\n",
       "    }\n",
       "\n",
       "    .dataframe thead th {\n",
       "        text-align: right;\n",
       "    }\n",
       "</style>\n",
       "<table border=\"1\" class=\"dataframe\">\n",
       "  <thead>\n",
       "    <tr style=\"text-align: right;\">\n",
       "      <th></th>\n",
       "      <th>popularity</th>\n",
       "      <th>budget</th>\n",
       "      <th>revenue</th>\n",
       "      <th>runtime</th>\n",
       "      <th>vote_average</th>\n",
       "      <th>release_year</th>\n",
       "      <th>profit</th>\n",
       "    </tr>\n",
       "  </thead>\n",
       "  <tbody>\n",
       "    <tr>\n",
       "      <th>count</th>\n",
       "      <td>964.000000</td>\n",
       "      <td>9.640000e+02</td>\n",
       "      <td>9.640000e+02</td>\n",
       "      <td>964.000000</td>\n",
       "      <td>964.000000</td>\n",
       "      <td>964.000000</td>\n",
       "      <td>9.640000e+02</td>\n",
       "    </tr>\n",
       "    <tr>\n",
       "      <th>mean</th>\n",
       "      <td>2.795850</td>\n",
       "      <td>6.751690e+07</td>\n",
       "      <td>2.629789e+08</td>\n",
       "      <td>115.142116</td>\n",
       "      <td>6.595332</td>\n",
       "      <td>2004.417012</td>\n",
       "      <td>1.954620e+08</td>\n",
       "    </tr>\n",
       "    <tr>\n",
       "      <th>std</th>\n",
       "      <td>2.220460</td>\n",
       "      <td>5.842812e+07</td>\n",
       "      <td>2.698093e+08</td>\n",
       "      <td>21.020129</td>\n",
       "      <td>0.736152</td>\n",
       "      <td>11.012801</td>\n",
       "      <td>2.354061e+08</td>\n",
       "    </tr>\n",
       "    <tr>\n",
       "      <th>min</th>\n",
       "      <td>1.368403</td>\n",
       "      <td>4.000000e+05</td>\n",
       "      <td>2.500000e+02</td>\n",
       "      <td>63.000000</td>\n",
       "      <td>3.800000</td>\n",
       "      <td>1960.000000</td>\n",
       "      <td>-9.999975e+07</td>\n",
       "    </tr>\n",
       "    <tr>\n",
       "      <th>25%</th>\n",
       "      <td>1.660657</td>\n",
       "      <td>2.300000e+07</td>\n",
       "      <td>8.967653e+07</td>\n",
       "      <td>100.000000</td>\n",
       "      <td>6.100000</td>\n",
       "      <td>2001.000000</td>\n",
       "      <td>4.788506e+07</td>\n",
       "    </tr>\n",
       "    <tr>\n",
       "      <th>50%</th>\n",
       "      <td>2.148295</td>\n",
       "      <td>5.000000e+07</td>\n",
       "      <td>1.786231e+08</td>\n",
       "      <td>112.000000</td>\n",
       "      <td>6.600000</td>\n",
       "      <td>2008.000000</td>\n",
       "      <td>1.218212e+08</td>\n",
       "    </tr>\n",
       "    <tr>\n",
       "      <th>75%</th>\n",
       "      <td>3.073780</td>\n",
       "      <td>1.000000e+08</td>\n",
       "      <td>3.517161e+08</td>\n",
       "      <td>127.000000</td>\n",
       "      <td>7.200000</td>\n",
       "      <td>2013.000000</td>\n",
       "      <td>2.573828e+08</td>\n",
       "    </tr>\n",
       "    <tr>\n",
       "      <th>max</th>\n",
       "      <td>32.985763</td>\n",
       "      <td>3.800000e+08</td>\n",
       "      <td>2.781506e+09</td>\n",
       "      <td>201.000000</td>\n",
       "      <td>8.400000</td>\n",
       "      <td>2015.000000</td>\n",
       "      <td>2.544506e+09</td>\n",
       "    </tr>\n",
       "  </tbody>\n",
       "</table>\n",
       "</div>"
      ],
      "text/plain": [
       "       popularity        budget       revenue     runtime  vote_average  \\\n",
       "count  964.000000  9.640000e+02  9.640000e+02  964.000000    964.000000   \n",
       "mean     2.795850  6.751690e+07  2.629789e+08  115.142116      6.595332   \n",
       "std      2.220460  5.842812e+07  2.698093e+08   21.020129      0.736152   \n",
       "min      1.368403  4.000000e+05  2.500000e+02   63.000000      3.800000   \n",
       "25%      1.660657  2.300000e+07  8.967653e+07  100.000000      6.100000   \n",
       "50%      2.148295  5.000000e+07  1.786231e+08  112.000000      6.600000   \n",
       "75%      3.073780  1.000000e+08  3.517161e+08  127.000000      7.200000   \n",
       "max     32.985763  3.800000e+08  2.781506e+09  201.000000      8.400000   \n",
       "\n",
       "       release_year        profit  \n",
       "count    964.000000  9.640000e+02  \n",
       "mean    2004.417012  1.954620e+08  \n",
       "std       11.012801  2.354061e+08  \n",
       "min     1960.000000 -9.999975e+07  \n",
       "25%     2001.000000  4.788506e+07  \n",
       "50%     2008.000000  1.218212e+08  \n",
       "75%     2013.000000  2.573828e+08  \n",
       "max     2015.000000  2.544506e+09  "
      ]
     },
     "execution_count": 56,
     "metadata": {},
     "output_type": "execute_result"
    }
   ],
   "source": [
    "pop_movies.describe()"
   ]
  },
  {
   "cell_type": "markdown",
   "metadata": {},
   "source": [
    "### what is the average runtime for the most popular movies ? "
   ]
  },
  {
   "cell_type": "markdown",
   "metadata": {},
   "source": [
    "this is a function to calculate the mean value for any certain column "
   ]
  },
  {
   "cell_type": "code",
   "execution_count": 57,
   "metadata": {},
   "outputs": [],
   "source": [
    "def avg_pop(column):\n",
    "    return pop_movies[column].mean()"
   ]
  },
  {
   "cell_type": "code",
   "execution_count": 58,
   "metadata": {},
   "outputs": [
    {
     "data": {
      "text/plain": [
       "115.14211618257261"
      ]
     },
     "execution_count": 58,
     "metadata": {},
     "output_type": "execute_result"
    }
   ],
   "source": [
    "pop_movies.runtime.mean()"
   ]
  },
  {
   "cell_type": "markdown",
   "metadata": {},
   "source": [
    "the average runtime of the most popular movies is 115.14 minutes"
   ]
  },
  {
   "cell_type": "markdown",
   "metadata": {},
   "source": [
    "### what is the average budget for the most popular movies ? "
   ]
  },
  {
   "cell_type": "code",
   "execution_count": 59,
   "metadata": {},
   "outputs": [
    {
     "data": {
      "text/plain": [
       "67516901.0726141"
      ]
     },
     "execution_count": 59,
     "metadata": {},
     "output_type": "execute_result"
    }
   ],
   "source": [
    "avg_pop('budget')"
   ]
  },
  {
   "cell_type": "markdown",
   "metadata": {},
   "source": [
    "the average budget of the most popular movies is 67516901.07 usd "
   ]
  },
  {
   "cell_type": "markdown",
   "metadata": {},
   "source": [
    "### what is the average vote for the most popular movies ? "
   ]
  },
  {
   "cell_type": "code",
   "execution_count": 60,
   "metadata": {},
   "outputs": [
    {
     "data": {
      "text/plain": [
       "6.5953319502074725"
      ]
     },
     "execution_count": 60,
     "metadata": {},
     "output_type": "execute_result"
    }
   ],
   "source": [
    "avg_pop('vote_average')"
   ]
  },
  {
   "cell_type": "markdown",
   "metadata": {},
   "source": [
    "the average vote of the most popular movies is 6.595 "
   ]
  },
  {
   "cell_type": "markdown",
   "metadata": {},
   "source": [
    "### now let's do some comparisons between our findings in both datasets"
   ]
  },
  {
   "cell_type": "code",
   "execution_count": 65,
   "metadata": {},
   "outputs": [
    {
     "data": {
      "image/png": "[encoded data removed]",
      "text/plain": [
       "<Figure size 432x288 with 1 Axes>"
      ]
     },
     "metadata": {
      "needs_background": "light"
     },
     "output_type": "display_data"
    }
   ],
   "source": [
    "plt.bar([1,2], [avg_prof('vote_average'),avg_pop('vote_average')],tick_label=['Profitability','Popularity' ])\n",
    "plt.title('Average vote difference between most profitable and most popular')\n",
    "plt.ylabel('Average Vote');"
   ]
  },
  {
   "cell_type": "code",
   "execution_count": 66,
   "metadata": {},
   "outputs": [
    {
     "data": {
      "image/png": "[encoded data removed]",
      "text/plain": [
       "<Figure size 432x288 with 1 Axes>"
      ]
     },
     "metadata": {
      "needs_background": "light"
     },
     "output_type": "display_data"
    }
   ],
   "source": [
    "plt.bar([1,2], [avg_prof('budget'),avg_pop('budget')],tick_label=['Profitability','Popularity' ])\n",
    "plt.title('Budget difference between most profitable and most popular')\n",
    "plt.ylabel('Budget');"
   ]
  },
  {
   "cell_type": "code",
   "execution_count": 67,
   "metadata": {},
   "outputs": [
    {
     "data": {
      "image/png": "[encoded data removed]",
      "text/plain": [
       "<Figure size 432x288 with 1 Axes>"
      ]
     },
     "metadata": {
      "needs_background": "light"
     },
     "output_type": "display_data"
    }
   ],
   "source": [
    "plt.bar([1,2], [avg_prof('runtime'),avg_pop('runtime')],tick_label=['Profitability','Popularity' ])\n",
    "plt.title('Runtime difference between most profitable and most popular')\n",
    "plt.ylabel('Runtime');"
   ]
  },
  {
   "cell_type": "markdown",
   "metadata": {},
   "source": [
    "### what years saw the highest profit for movies ?"
   ]
  },
  {
   "cell_type": "markdown",
   "metadata": {},
   "source": [
    "to find the most profitable years we will group the dataset by year and add up all movies profit for that year"
   ]
  },
  {
   "cell_type": "code",
   "execution_count": 68,
   "metadata": {},
   "outputs": [],
   "source": [
    "years_prof_ord = df.groupby('release_year')['profit'].sum().sort_values(ascending=False)"
   ]
  },
  {
   "cell_type": "code",
   "execution_count": 69,
   "metadata": {},
   "outputs": [],
   "source": [
    "topten_year_prof = years_prof_ord.head(10)"
   ]
  },
  {
   "cell_type": "code",
   "execution_count": 70,
   "metadata": {},
   "outputs": [
    {
     "data": {
      "text/plain": [
       "release_year\n",
       "2015    19032145273\n",
       "2014    16676201357\n",
       "2012    16596845507\n",
       "2013    15782743325\n",
       "2011    14966694704\n",
       "2009    14069305071\n",
       "2010    13341222037\n",
       "2008    11843373159\n",
       "2007    11686103667\n",
       "2004     9822506642\n",
       "Name: profit, dtype: int64"
      ]
     },
     "execution_count": 70,
     "metadata": {},
     "output_type": "execute_result"
    }
   ],
   "source": [
    "topten_year_prof"
   ]
  },
  {
   "cell_type": "code",
   "execution_count": 71,
   "metadata": {},
   "outputs": [],
   "source": [
    "prof_year_order=['2015','2014','2012','2013','2011','2009','2010','2008','2007','2004']"
   ]
  },
  {
   "cell_type": "code",
   "execution_count": 73,
   "metadata": {},
   "outputs": [
    {
     "data": {
      "image/png": "[encoded data removed]",
      "text/plain": [
       "<Figure size 1440x576 with 1 Axes>"
      ]
     },
     "metadata": {
      "needs_background": "light"
     },
     "output_type": "display_data"
    }
   ],
   "source": [
    "plt.figure(figsize=(20, 8)) \n",
    "plt.bar([1,2,3,4,5,6,7,8,9,10], topten_year_prof,tick_label=prof_year_order)\n",
    "plt.xlabel('Years of movies making')\n",
    "plt.ylabel('Profit of movies')\n",
    "plt.title('Top ten most profitable years for movie making');"
   ]
  },
  {
   "cell_type": "code",
   "execution_count": 103,
   "metadata": {},
   "outputs": [
    {
     "data": {
      "image/png": "[encoded data removed]",
      "text/plain": [
       "<Figure size 432x288 with 1 Axes>"
      ]
     },
     "metadata": {
      "needs_background": "light"
     },
     "output_type": "display_data"
    }
   ],
   "source": [
    "sns.barplot(x=topten_year_prof.index,y=topten_year_prof,order=topten_year_prof.index).set(title='Top ten most profitable years for movie making');"
   ]
  },
  {
   "cell_type": "markdown",
   "metadata": {},
   "source": [
    "### is the movie making industry thriving or dying ? "
   ]
  },
  {
   "cell_type": "code",
   "execution_count": 104,
   "metadata": {},
   "outputs": [],
   "source": [
    "years_prof = df.groupby('release_year')['profit'].sum()"
   ]
  },
  {
   "cell_type": "code",
   "execution_count": 105,
   "metadata": {},
   "outputs": [
    {
     "data": {
      "text/plain": [
       "release_year\n",
       "1960      108198052\n",
       "1961      299083188\n",
       "1962      166879846\n",
       "1963      115411882\n",
       "1964      294678387\n",
       "1965      399281854\n",
       "1966       52468689\n",
       "1967      636334637\n",
       "1968      168271762\n",
       "1969      206862989\n",
       "1970      454070023\n",
       "1971      336284710\n",
       "1972      457235917\n",
       "1973     1057686099\n",
       "1974      650582027\n",
       "1975      808207270\n",
       "1976      629426536\n",
       "1977     1743308485\n",
       "1978     1005100089\n",
       "1979      950330150\n",
       "1980     1002065664\n",
       "1981     1320251458\n",
       "1982     1811756359\n",
       "1983     1505073842\n",
       "1984     1833438131\n",
       "1985     1666899046\n",
       "1986     1665354869\n",
       "1987     2148546726\n",
       "1988     2313076703\n",
       "1989     3603940908\n",
       "1990     3454904971\n",
       "1991     3048121485\n",
       "1992     3873046070\n",
       "1993     4575828325\n",
       "1994     4704384415\n",
       "1995     5608098320\n",
       "1996     4736626727\n",
       "1997     6380241248\n",
       "1998     5274145395\n",
       "1999     6433209130\n",
       "2000     6110774823\n",
       "2001     8022044875\n",
       "2002     9004589344\n",
       "2003     9202155213\n",
       "2004     9822506642\n",
       "2005     9259452998\n",
       "2006     8726299999\n",
       "2007    11686103667\n",
       "2008    11843373159\n",
       "2009    14069305071\n",
       "2010    13341222037\n",
       "2011    14966694704\n",
       "2012    16596845507\n",
       "2013    15782743325\n",
       "2014    16676201357\n",
       "2015    19032145273\n",
       "Name: profit, dtype: int64"
      ]
     },
     "execution_count": 105,
     "metadata": {},
     "output_type": "execute_result"
    }
   ],
   "source": [
    "years_prof"
   ]
  },
  {
   "cell_type": "code",
   "execution_count": 107,
   "metadata": {},
   "outputs": [
    {
     "data": {
      "image/png": "[encoded data removed]",
      "text/plain": [
       "<Figure size 432x288 with 1 Axes>"
      ]
     },
     "metadata": {
      "needs_background": "light"
     },
     "output_type": "display_data"
    }
   ],
   "source": [
    "plt.plot(years_prof)\n",
    "plt.xlabel('years of movies')\n",
    "plt.ylabel('profits of movies')\n",
    "plt.title('profits in movie making industry trend');"
   ]
  },
  {
   "cell_type": "code",
   "execution_count": 108,
   "metadata": {},
   "outputs": [
    {
     "data": {
      "text/plain": [
       "<AxesSubplot:xlabel='release_year', ylabel='profit'>"
      ]
     },
     "execution_count": 108,
     "metadata": {},
     "output_type": "execute_result"
    },
    {
     "data": {
      "image/png": "[encoded data removed]",
      "text/plain": [
       "<Figure size 432x288 with 1 Axes>"
      ]
     },
     "metadata": {
      "needs_background": "light"
     },
     "output_type": "display_data"
    }
   ],
   "source": [
    "sns.lineplot(data=years_prof, x=years_prof.index, y=years_prof).set(title='profits in movie making industry trend');"
   ]
  },
  {
   "cell_type": "markdown",
   "metadata": {},
   "source": [
    "movie making seems to only be getting more profitable as time goes by"
   ]
  },
  {
   "cell_type": "markdown",
   "metadata": {},
   "source": [
    "### 1D univariate Data"
   ]
  },
  {
   "cell_type": "markdown",
   "metadata": {},
   "source": [
    "### What is the average runtime for all movies "
   ]
  },
  {
   "cell_type": "code",
   "execution_count": 116,
   "metadata": {},
   "outputs": [
    {
     "data": {
      "image/png": "[encoded data removed]",
      "text/plain": [
       "<Figure size 432x288 with 1 Axes>"
      ]
     },
     "metadata": {
      "needs_background": "light"
     },
     "output_type": "display_data"
    }
   ],
   "source": [
    "df['runtime'].plot.hist()\n",
    "plt.suptitle(\"Distribution of run time for all movies\")\n",
    "plt.xlabel(\"Runtime of all movies\")\n",
    "plt.ylabel(\"frequency of runtime\");"
   ]
  },
  {
   "cell_type": "code",
   "execution_count": 121,
   "metadata": {},
   "outputs": [
    {
     "data": {
      "image/png": "[encoded data removed]",
      "text/plain": [
       "<Figure size 360x360 with 1 Axes>"
      ]
     },
     "metadata": {
      "needs_background": "light"
     },
     "output_type": "display_data"
    }
   ],
   "source": [
    "sns.displot(data=df, x=\"runtime\").set(title=\"Distribution of run time for all movies\");"
   ]
  },
  {
   "cell_type": "code",
   "execution_count": 118,
   "metadata": {},
   "outputs": [
    {
     "data": {
      "text/plain": [
       "count    3854.000000\n",
       "mean      109.220291\n",
       "std        19.922820\n",
       "min        15.000000\n",
       "25%        95.000000\n",
       "50%       106.000000\n",
       "75%       119.000000\n",
       "max       338.000000\n",
       "Name: runtime, dtype: float64"
      ]
     },
     "execution_count": 118,
     "metadata": {},
     "output_type": "execute_result"
    }
   ],
   "source": [
    "df['runtime'].describe()"
   ]
  },
  {
   "cell_type": "markdown",
   "metadata": {},
   "source": [
    "we find that the average runtime for all movies is 109.220 minutes"
   ]
  },
  {
   "cell_type": "code",
   "execution_count": null,
   "metadata": {},
   "outputs": [],
   "source": []
  },
  {
   "cell_type": "code",
   "execution_count": null,
   "metadata": {},
   "outputs": [],
   "source": []
  },
  {
   "cell_type": "markdown",
   "metadata": {},
   "source": [
    "### What is the average budget for all movies "
   ]
  },
  {
   "cell_type": "code",
   "execution_count": 122,
   "metadata": {},
   "outputs": [
    {
     "data": {
      "image/png": "[encoded data removed]",
      "text/plain": [
       "<Figure size 432x288 with 1 Axes>"
      ]
     },
     "metadata": {
      "needs_background": "light"
     },
     "output_type": "display_data"
    }
   ],
   "source": [
    "df['budget'].plot.hist()\n",
    "plt.suptitle(\"Distribution of budget for all movies\")\n",
    "plt.xlabel(\"Budget of all movies\")\n",
    "plt.ylabel(\"frequency of budgets\");"
   ]
  },
  {
   "cell_type": "code",
   "execution_count": 123,
   "metadata": {},
   "outputs": [
    {
     "data": {
      "image/png": "[encoded data removed]",
      "text/plain": [
       "<Figure size 360x360 with 1 Axes>"
      ]
     },
     "metadata": {
      "needs_background": "light"
     },
     "output_type": "display_data"
    }
   ],
   "source": [
    "sns.displot(data=df, x=\"budget\").set(title=\"Distribution of budget for all movies\");"
   ]
  },
  {
   "cell_type": "code",
   "execution_count": 124,
   "metadata": {},
   "outputs": [
    {
     "data": {
      "text/plain": [
       "count    3.854000e+03\n",
       "mean     3.720370e+07\n",
       "std      4.220822e+07\n",
       "min      1.000000e+00\n",
       "25%      1.000000e+07\n",
       "50%      2.400000e+07\n",
       "75%      5.000000e+07\n",
       "max      4.250000e+08\n",
       "Name: budget, dtype: float64"
      ]
     },
     "execution_count": 124,
     "metadata": {},
     "output_type": "execute_result"
    }
   ],
   "source": [
    "df['budget'].describe()"
   ]
  },
  {
   "cell_type": "markdown",
   "metadata": {},
   "source": [
    "we find that the average budget is 3.720370e+07 usd "
   ]
  },
  {
   "cell_type": "markdown",
   "metadata": {},
   "source": [
    "<a id='conclusions'></a>\n",
    "## Conclusions\n",
    "\n",
    "What qualities make a movie popular? what qualities make a movie profitable?\n",
    "for a movie to be popular it should have a\n",
    "    runtime of 115.14 minutes\n",
    "    budget of 67516901.07 usd\n",
    "for a movie to be profitable it should have a \n",
    "    runtime of 115.2 minutes\n",
    "    budget of 69666148.45 usd\n",
    "popular movies are higher rated than profitable ones\n",
    "popular movies vote average : 6.59\n",
    "profitable movies vote average: 6.44\n",
    "\n",
    "top 10 most profitable movies of all time are\n",
    "1-Avatar 2-Star Wars: The Force Awakens 3-Titanic 4-Jurassic World 5-Furious 7 6-The Avengers 7-Harry Potter and the Deathly Hallows: Part 2 8-Avengers: Age of Ultron 9-Frozen 10-The Net\n",
    "\n",
    "what are the top ten profitable years for movie making?\n",
    "1-2015 2-2014 3-2012 4-2013 5-2011 6-2009 7-2010 8-2008 9-2007 10-2004\n",
    "\n",
    "is the movie making industry thriving or dying ? \n",
    "movie making seems to only be getting more profitable as time goes by\n",
    "\n",
    "-we find that the average runtime for all movies is 109.220 minutes\n",
    "-we find that the average budget is 3.720370e+07 usd \n",
    "\n",
    "the limitations were many budget and revenue cells were filled in as zero , the data is not up to date\n",
    "\n"
   ]
  },
  {
   "cell_type": "code",
   "execution_count": null,
   "metadata": {},
   "outputs": [],
   "source": []
  },
  {
   "cell_type": "code",
   "execution_count": null,
   "metadata": {
    "collapsed": true
   },
   "outputs": [],
   "source": [
    "from subprocess import call\n",
    "call(['python', '-m', 'nbconvert', 'Investigate_a_Dataset.ipynb'])"
   ]
  }
 ],
 "metadata": {
  "kernelspec": {
   "display_name": "Python 3 (ipykernel)",
   "language": "python",
   "name": "python3"
  },
  "language_info": {
   "codemirror_mode": {
    "name": "ipython",
    "version": 3
   },
   "file_extension": ".py",
   "mimetype": "text/x-python",
   "name": "python",
   "nbconvert_exporter": "python",
   "pygments_lexer": "ipython3",
   "version": "3.9.7"
  }
 },
 "nbformat": 4,
 "nbformat_minor": 2
}
